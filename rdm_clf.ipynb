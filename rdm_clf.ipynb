{
 "cells": [
  {
   "cell_type": "code",
   "execution_count": 1,
   "metadata": {},
   "outputs": [],
   "source": [
    "import pandas as pd\n",
    "import numpy as np\n",
    "import seaborn as sns\n",
    "import matplotlib.pyplot as plt"
   ]
  },
  {
   "cell_type": "code",
   "execution_count": 2,
   "metadata": {},
   "outputs": [],
   "source": [
    "df = pd.read_csv('Data\\Resume_data.csv')"
   ]
  },
  {
   "cell_type": "code",
   "execution_count": 3,
   "metadata": {},
   "outputs": [],
   "source": [
    "df = df.drop(columns=[\"Unnamed: 0\"], axis=1)"
   ]
  },
  {
   "cell_type": "code",
   "execution_count": 4,
   "metadata": {},
   "outputs": [],
   "source": [
    "df['label'] = df['label'].map({'React Developer':0,'workday':1,'Peoplesoft':2,'SQL Developer':3})"
   ]
  },
  {
   "cell_type": "code",
   "execution_count": 5,
   "metadata": {},
   "outputs": [
    {
     "data": {
      "text/html": [
       "<div>\n",
       "<style scoped>\n",
       "    .dataframe tbody tr th:only-of-type {\n",
       "        vertical-align: middle;\n",
       "    }\n",
       "\n",
       "    .dataframe tbody tr th {\n",
       "        vertical-align: top;\n",
       "    }\n",
       "\n",
       "    .dataframe thead th {\n",
       "        text-align: right;\n",
       "    }\n",
       "</style>\n",
       "<table border=\"1\" class=\"dataframe\">\n",
       "  <thead>\n",
       "    <tr style=\"text-align: right;\">\n",
       "      <th></th>\n",
       "      <th>Text</th>\n",
       "      <th>label</th>\n",
       "    </tr>\n",
       "  </thead>\n",
       "  <tbody>\n",
       "    <tr>\n",
       "      <th>0</th>\n",
       "      <td>Anubhav Kumar Singh\\t\\t\\n\\n  To work in a gl...</td>\n",
       "      <td>2</td>\n",
       "    </tr>\n",
       "    <tr>\n",
       "      <th>1</th>\n",
       "      <td>Anubhav Kumar Singh\\t\\t\\n\\n  To work in a gl...</td>\n",
       "      <td>2</td>\n",
       "    </tr>\n",
       "    <tr>\n",
       "      <th>2</th>\n",
       "      <td>Anubhav Kumar Singh\\t\\t\\n\\n  To work in a gl...</td>\n",
       "      <td>2</td>\n",
       "    </tr>\n",
       "    <tr>\n",
       "      <th>3</th>\n",
       "      <td>Murali\\n\\nExperience Summary \\n\\nI have 6 year...</td>\n",
       "      <td>2</td>\n",
       "    </tr>\n",
       "    <tr>\n",
       "      <th>4</th>\n",
       "      <td>Murali\\n\\nExperience Summary \\n\\nI have 6 year...</td>\n",
       "      <td>2</td>\n",
       "    </tr>\n",
       "    <tr>\n",
       "      <th>...</th>\n",
       "      <td>...</td>\n",
       "      <td>...</td>\n",
       "    </tr>\n",
       "    <tr>\n",
       "      <th>75</th>\n",
       "      <td>Ramesh A\\t\\t\\t\\t\\t\\t\\t\\t\\t\\t\\t\\t\\t\\t\\t\\t\\t\\t\\t...</td>\n",
       "      <td>1</td>\n",
       "    </tr>\n",
       "    <tr>\n",
       "      <th>76</th>\n",
       "      <td>Seeking suitable positions in Workday HCM  as ...</td>\n",
       "      <td>1</td>\n",
       "    </tr>\n",
       "    <tr>\n",
       "      <th>77</th>\n",
       "      <td>\\nWORKDAY | HCM | FCM\\nName \\t\\t: Kumar S.S\\nR...</td>\n",
       "      <td>1</td>\n",
       "    </tr>\n",
       "    <tr>\n",
       "      <th>78</th>\n",
       "      <td>\\nWORKDAY | HCM | FCM\\nName \\t\\t: Kumar S.S\\nR...</td>\n",
       "      <td>1</td>\n",
       "    </tr>\n",
       "    <tr>\n",
       "      <th>79</th>\n",
       "      <td>...</td>\n",
       "      <td>1</td>\n",
       "    </tr>\n",
       "  </tbody>\n",
       "</table>\n",
       "<p>80 rows × 2 columns</p>\n",
       "</div>"
      ],
      "text/plain": [
       "                                                 Text  label\n",
       "0     Anubhav Kumar Singh\\t\\t\\n\\n  To work in a gl...      2\n",
       "1     Anubhav Kumar Singh\\t\\t\\n\\n  To work in a gl...      2\n",
       "2     Anubhav Kumar Singh\\t\\t\\n\\n  To work in a gl...      2\n",
       "3   Murali\\n\\nExperience Summary \\n\\nI have 6 year...      2\n",
       "4   Murali\\n\\nExperience Summary \\n\\nI have 6 year...      2\n",
       "..                                                ...    ...\n",
       "75  Ramesh A\\t\\t\\t\\t\\t\\t\\t\\t\\t\\t\\t\\t\\t\\t\\t\\t\\t\\t\\t...      1\n",
       "76  Seeking suitable positions in Workday HCM  as ...      1\n",
       "77  \\nWORKDAY | HCM | FCM\\nName \\t\\t: Kumar S.S\\nR...      1\n",
       "78  \\nWORKDAY | HCM | FCM\\nName \\t\\t: Kumar S.S\\nR...      1\n",
       "79                                                ...      1\n",
       "\n",
       "[80 rows x 2 columns]"
      ]
     },
     "execution_count": 5,
     "metadata": {},
     "output_type": "execute_result"
    }
   ],
   "source": [
    "df"
   ]
  },
  {
   "cell_type": "code",
   "execution_count": 6,
   "metadata": {},
   "outputs": [
    {
     "data": {
      "text/plain": [
       "'ANIL KUMAR MADDUKURI  \\t\\t\\nSQL & MSBI Developer   \\n\\n\\t\\n\\nSummary\\n\\n2.4 years of experience in MS SQL Server (SSMS) and creating SSIS packages, SSRS Reports by using Microsoft Business Intelligence (MSBI) tools.\\nExpertise in various types of Joins and Sub Queries for writing complex queries involving multiple tables.\\nHandled data manipulation and data consistency by creating Views, Triggers, and Synonyms.\\nHands on experience in creation, optimization and debugging Stored Procedure and Functions.\\nFamiliar in writing queries using CTE, Temporary Tables and Table Variables.\\nGood experience in using Set Operators like Union, Union All, Except and Intersect to assist required data.\\nExperience in manipulate the data from multiple table and report to the client using Aggregate Functions, Windows Functions and String Functions.\\nWorked extensively on Data Extraction, Transformation and Loading (ETL) process in SQL Server Integration Services.\\nUsed containers such as for each loop container and sequence container to load the data from multiple source file to Database tables.\\nExpertise in using tasks like  Data flow Task, Execute SQL task ,Control Flow task Execute package task, Execute Process task, Bulk insert Task,  Sends Mail task and FTP Task and Script task at the control flow level .\\nExperience in using Data conversion,OLEDB command, Row count, Union All, Derived Column, Merge, Merge Join, Fuzzy lookup, Conditional Split and various other Transformation to manipulate data in SSIS package at the Data Flow Level for moving typical data from source to destination.\\nImplemented SSIS Loggings, check-points Break points and package configurations source system to another source system and ETL operations.\\nGood experience in developing Table Reports, Sub Reports, Matrix Reports, Drill down Reports, Drill through Reports using SQL Server Reporting Services.\\nInvolved in Linked reports, Cache reports, and Snapshot reports in report manager level.\\nExpertise in performing backup and restore the database.\\nCreated Indexes like Clustered Index and Non-Clustered Index to improve the performance.\\n\\nTechnical Skills\\nLanguages\\t           :  SQL, T-SQL\\nRDBMS\\t           :  SQL Server 2016/2012/2008 \\nETL Tools\\t           :  SQL Server Integration Services (SSIS)\\nReporting Tools         :  SQL Server Reporting Tools (SSRS)\\n\\nProfessional Experience\\nCurrently working as Software Engineer in Imagine Technology\\xa0and Services Pvt. Ltd \\n       Since 2019 to till date.\\nProject Experience\\nProject\\t\\t\\t:  Health Insurance\\nClient\\t\\t\\t:  Aetna, USA\\nEnvironment\\t\\t:  MS SQL SERVER 2016, SSIS, SSRS, Visual Studio 2015 \\nDuration\\t\\t:  April 2019 to Till Date\\n\\nDescription: \\nThis project is developed for Aetna Insurance. This is an American managed health care company sells traditional and consumer directed health care insurance and related services, Such as medical, dental, long-term care, and disability plans, primarily through employer-paid (fully or partly) insurance and benefit programs. The main goal of this project Implementing Customer Information into Database and Developing mechanism to revert data from database. \\nResponsibilities: \\n\\nCreate/update indexes, views, Stored Procedures, user defined functions, common table expressions (CTEs) and Triggers. \\nDevelop SSIS Packages by extracting data from diversified sources like Excel, CSV, flat file, Text and load into staging area.\\nUse transformations like Aggregate, Conditional Split, Derived Columns, Row Count, Merge and Merge Join, Multicast, Slowly Changing Dimension to manipulate data in data flow level\\nImplement event handlers for the packages, maintain log information and provide checkpoints in SSIS level. \\nDesign packages in control flow levels based on tasks like Data Flow Task, Execute SQL Task, FTP tasks and used For Each Loop Container, Sequential Container.\\nGenerate reports in the form of Matrix, Table by using SSRS from SQL Server Database and included various reporting features such as drilldown, drill through, sub reports. \\nInvolved in setting up SQL Server Agent Jobs for periodic Backups with backup devices, database maintenance plans and recovery.\\nMaintained / managed database agent jobs, check for failures and resolve failure issues.\\nUsed SQL Profiler and query tuning Wizard to troubleshoot problems and queries.\\n\\nEducation\\nB.Tech - Velagapudi siddhartha engineering college,Vijayawada\\n'"
      ]
     },
     "execution_count": 6,
     "metadata": {},
     "output_type": "execute_result"
    }
   ],
   "source": [
    "df['Text'][45]"
   ]
  },
  {
   "cell_type": "markdown",
   "metadata": {},
   "source": [
    "## Data Preprocessing"
   ]
  },
  {
   "cell_type": "code",
   "execution_count": 7,
   "metadata": {},
   "outputs": [
    {
     "name": "stderr",
     "output_type": "stream",
     "text": [
      "[nltk_data] Downloading package stopwords to\n",
      "[nltk_data]     C:\\Users\\VICTUS\\AppData\\Roaming\\nltk_data...\n",
      "[nltk_data]   Package stopwords is already up-to-date!\n",
      "[nltk_data] Downloading package wordnet to\n",
      "[nltk_data]     C:\\Users\\VICTUS\\AppData\\Roaming\\nltk_data...\n",
      "[nltk_data]   Package wordnet is already up-to-date!\n",
      "[nltk_data] Downloading package punkt to\n",
      "[nltk_data]     C:\\Users\\VICTUS\\AppData\\Roaming\\nltk_data...\n",
      "[nltk_data]   Package punkt is already up-to-date!\n",
      "[nltk_data] Downloading package punkt_tab to\n",
      "[nltk_data]     C:\\Users\\VICTUS\\AppData\\Roaming\\nltk_data...\n",
      "[nltk_data]   Package punkt_tab is already up-to-date!\n"
     ]
    },
    {
     "data": {
      "text/plain": [
       "True"
      ]
     },
     "execution_count": 7,
     "metadata": {},
     "output_type": "execute_result"
    }
   ],
   "source": [
    "import re\n",
    "import nltk\n",
    "nltk.download('stopwords')\n",
    "nltk.download('wordnet')\n",
    "nltk.download('punkt')\n",
    "nltk.download('punkt_tab')"
   ]
  },
  {
   "cell_type": "code",
   "execution_count": 8,
   "metadata": {},
   "outputs": [],
   "source": [
    "from nltk.corpus import stopwords\n",
    "from nltk.stem import WordNetLemmatizer\n",
    "from nltk.tokenize import word_tokenize"
   ]
  },
  {
   "cell_type": "code",
   "execution_count": 9,
   "metadata": {},
   "outputs": [],
   "source": [
    "Lemmatizer = WordNetLemmatizer()"
   ]
  },
  {
   "cell_type": "code",
   "execution_count": 10,
   "metadata": {},
   "outputs": [],
   "source": [
    "def preprocess_data(text):\n",
    "    cleantext = re.sub(r'http\\S+|www\\.\\S+', '',text)\n",
    "    cleantext = re.sub(r'@\\S+','',cleantext) \n",
    "    cleantext = re.sub(r'#\\S+','',cleantext)\n",
    "    cleantext = re.sub(r'[^\\w\\s]','',cleantext)\n",
    "    cleantext = cleantext.lower()\n",
    "    words = word_tokenize(cleantext)\n",
    "    words = [Lemmatizer.lemmatize(word,pos='v') for word in words if not word in stopwords.words('english')]\n",
    "    cleantext = ' '.join(words)\n",
    "    return cleantext "
   ]
  },
  {
   "cell_type": "code",
   "execution_count": 11,
   "metadata": {},
   "outputs": [],
   "source": [
    "def preprocess_data2(text):\n",
    "  cleantext = re.sub('[^a-zA-Z]',' ',text)\n",
    "  cleantext = re.sub('\\s+',' ',cleantext)\n",
    "  return cleantext "
   ]
  },
  {
   "cell_type": "code",
   "execution_count": 12,
   "metadata": {},
   "outputs": [],
   "source": [
    "df = df.sample(frac=1,random_state=42)"
   ]
  },
  {
   "cell_type": "code",
   "execution_count": 13,
   "metadata": {},
   "outputs": [],
   "source": [
    "df.reset_index(inplace=True,drop=True)"
   ]
  },
  {
   "cell_type": "code",
   "execution_count": 14,
   "metadata": {},
   "outputs": [
    {
     "data": {
      "text/html": [
       "<div>\n",
       "<style scoped>\n",
       "    .dataframe tbody tr th:only-of-type {\n",
       "        vertical-align: middle;\n",
       "    }\n",
       "\n",
       "    .dataframe tbody tr th {\n",
       "        vertical-align: top;\n",
       "    }\n",
       "\n",
       "    .dataframe thead th {\n",
       "        text-align: right;\n",
       "    }\n",
       "</style>\n",
       "<table border=\"1\" class=\"dataframe\">\n",
       "  <thead>\n",
       "    <tr style=\"text-align: right;\">\n",
       "      <th></th>\n",
       "      <th>Text</th>\n",
       "      <th>label</th>\n",
       "    </tr>\n",
       "  </thead>\n",
       "  <tbody>\n",
       "    <tr>\n",
       "      <th>0</th>\n",
       "      <td>\\n\\nThirupathamma Balla\\n\\nSUMMARY:\\n\\n2.8 yea...</td>\n",
       "      <td>0</td>\n",
       "    </tr>\n",
       "    <tr>\n",
       "      <th>1</th>\n",
       "      <td>Anubhav Kumar Singh\\t\\t\\n\\n  To work in a gl...</td>\n",
       "      <td>2</td>\n",
       "    </tr>\n",
       "    <tr>\n",
       "      <th>2</th>\n",
       "      <td>Kanumuru Deepak Reddy\\n\\n\\n\\nCAREER OBJECTIVE:...</td>\n",
       "      <td>0</td>\n",
       "    </tr>\n",
       "    <tr>\n",
       "      <th>3</th>\n",
       "      <td>\\nUi-Developer/ React JS Developer \\nNAME: KRI...</td>\n",
       "      <td>0</td>\n",
       "    </tr>\n",
       "    <tr>\n",
       "      <th>4</th>\n",
       "      <td>Tanna Sujatha \\n\\n\\n\\nOBJECTIVE\\nSeeking a cha...</td>\n",
       "      <td>2</td>\n",
       "    </tr>\n",
       "    <tr>\n",
       "      <th>...</th>\n",
       "      <td>...</td>\n",
       "      <td>...</td>\n",
       "    </tr>\n",
       "    <tr>\n",
       "      <th>75</th>\n",
       "      <td>Name: Ravali P \\n\\n                           ...</td>\n",
       "      <td>0</td>\n",
       "    </tr>\n",
       "    <tr>\n",
       "      <th>76</th>\n",
       "      <td>\\t\\n\\n\\nName         : Gopi Krishna Reddy\\n\\t\\...</td>\n",
       "      <td>1</td>\n",
       "    </tr>\n",
       "    <tr>\n",
       "      <th>77</th>\n",
       "      <td>VENKATA SAIKRISHNA\\n Workday Consultant\\n\\n\\nP...</td>\n",
       "      <td>1</td>\n",
       "    </tr>\n",
       "    <tr>\n",
       "      <th>78</th>\n",
       "      <td>\\nHaving 4.6 years of experience in PeopleSoft...</td>\n",
       "      <td>2</td>\n",
       "    </tr>\n",
       "    <tr>\n",
       "      <th>79</th>\n",
       "      <td>SQL DEVELOPER\\nName: -   Bandi prem sai\\n\\n\\nW...</td>\n",
       "      <td>3</td>\n",
       "    </tr>\n",
       "  </tbody>\n",
       "</table>\n",
       "<p>80 rows × 2 columns</p>\n",
       "</div>"
      ],
      "text/plain": [
       "                                                 Text  label\n",
       "0   \\n\\nThirupathamma Balla\\n\\nSUMMARY:\\n\\n2.8 yea...      0\n",
       "1     Anubhav Kumar Singh\\t\\t\\n\\n  To work in a gl...      2\n",
       "2   Kanumuru Deepak Reddy\\n\\n\\n\\nCAREER OBJECTIVE:...      0\n",
       "3   \\nUi-Developer/ React JS Developer \\nNAME: KRI...      0\n",
       "4   Tanna Sujatha \\n\\n\\n\\nOBJECTIVE\\nSeeking a cha...      2\n",
       "..                                                ...    ...\n",
       "75  Name: Ravali P \\n\\n                           ...      0\n",
       "76  \\t\\n\\n\\nName         : Gopi Krishna Reddy\\n\\t\\...      1\n",
       "77  VENKATA SAIKRISHNA\\n Workday Consultant\\n\\n\\nP...      1\n",
       "78  \\nHaving 4.6 years of experience in PeopleSoft...      2\n",
       "79  SQL DEVELOPER\\nName: -   Bandi prem sai\\n\\n\\nW...      3\n",
       "\n",
       "[80 rows x 2 columns]"
      ]
     },
     "execution_count": 14,
     "metadata": {},
     "output_type": "execute_result"
    }
   ],
   "source": [
    "df"
   ]
  },
  {
   "cell_type": "code",
   "execution_count": 15,
   "metadata": {},
   "outputs": [],
   "source": [
    "df['Text'] = df['Text'].apply(preprocess_data)"
   ]
  },
  {
   "cell_type": "code",
   "execution_count": 16,
   "metadata": {},
   "outputs": [],
   "source": [
    "df['Text'] = df['Text'].apply(preprocess_data2)"
   ]
  },
  {
   "cell_type": "code",
   "execution_count": 17,
   "metadata": {},
   "outputs": [
    {
     "data": {
      "text/html": [
       "<div>\n",
       "<style scoped>\n",
       "    .dataframe tbody tr th:only-of-type {\n",
       "        vertical-align: middle;\n",
       "    }\n",
       "\n",
       "    .dataframe tbody tr th {\n",
       "        vertical-align: top;\n",
       "    }\n",
       "\n",
       "    .dataframe thead th {\n",
       "        text-align: right;\n",
       "    }\n",
       "</style>\n",
       "<table border=\"1\" class=\"dataframe\">\n",
       "  <thead>\n",
       "    <tr style=\"text-align: right;\">\n",
       "      <th></th>\n",
       "      <th>Text</th>\n",
       "      <th>label</th>\n",
       "    </tr>\n",
       "  </thead>\n",
       "  <tbody>\n",
       "    <tr>\n",
       "      <th>0</th>\n",
       "      <td>thirupathamma balla summary year experience re...</td>\n",
       "      <td>0</td>\n",
       "    </tr>\n",
       "    <tr>\n",
       "      <th>1</th>\n",
       "      <td>anubhav kumar singh work globally competitive ...</td>\n",
       "      <td>2</td>\n",
       "    </tr>\n",
       "    <tr>\n",
       "      <th>2</th>\n",
       "      <td>kanumuru deepak reddy career objective secure ...</td>\n",
       "      <td>0</td>\n",
       "    </tr>\n",
       "    <tr>\n",
       "      <th>3</th>\n",
       "      <td>uideveloper react js developer name krishna pr...</td>\n",
       "      <td>0</td>\n",
       "    </tr>\n",
       "    <tr>\n",
       "      <th>4</th>\n",
       "      <td>tanna sujatha objective seek challenge role ar...</td>\n",
       "      <td>2</td>\n",
       "    </tr>\n",
       "    <tr>\n",
       "      <th>...</th>\n",
       "      <td>...</td>\n",
       "      <td>...</td>\n",
       "    </tr>\n",
       "    <tr>\n",
       "      <th>75</th>\n",
       "      <td>name ravali p curriculum vitae specialization ...</td>\n",
       "      <td>0</td>\n",
       "    </tr>\n",
       "    <tr>\n",
       "      <th>76</th>\n",
       "      <td>name gopi krishna reddy professional summery w...</td>\n",
       "      <td>1</td>\n",
       "    </tr>\n",
       "    <tr>\n",
       "      <th>77</th>\n",
       "      <td>venkata saikrishna workday consultant profssio...</td>\n",
       "      <td>1</td>\n",
       "    </tr>\n",
       "    <tr>\n",
       "      <th>78</th>\n",
       "      <td>years experience peoplesoft application enhan...</td>\n",
       "      <td>2</td>\n",
       "    </tr>\n",
       "    <tr>\n",
       "      <th>79</th>\n",
       "      <td>sql developer name bandi prem sai will work ch...</td>\n",
       "      <td>3</td>\n",
       "    </tr>\n",
       "  </tbody>\n",
       "</table>\n",
       "<p>80 rows × 2 columns</p>\n",
       "</div>"
      ],
      "text/plain": [
       "                                                 Text  label\n",
       "0   thirupathamma balla summary year experience re...      0\n",
       "1   anubhav kumar singh work globally competitive ...      2\n",
       "2   kanumuru deepak reddy career objective secure ...      0\n",
       "3   uideveloper react js developer name krishna pr...      0\n",
       "4   tanna sujatha objective seek challenge role ar...      2\n",
       "..                                                ...    ...\n",
       "75  name ravali p curriculum vitae specialization ...      0\n",
       "76  name gopi krishna reddy professional summery w...      1\n",
       "77  venkata saikrishna workday consultant profssio...      1\n",
       "78   years experience peoplesoft application enhan...      2\n",
       "79  sql developer name bandi prem sai will work ch...      3\n",
       "\n",
       "[80 rows x 2 columns]"
      ]
     },
     "execution_count": 17,
     "metadata": {},
     "output_type": "execute_result"
    }
   ],
   "source": [
    "df"
   ]
  },
  {
   "cell_type": "markdown",
   "metadata": {},
   "source": [
    "## Word2vec"
   ]
  },
  {
   "cell_type": "code",
   "execution_count": 18,
   "metadata": {},
   "outputs": [],
   "source": [
    "import gensim"
   ]
  },
  {
   "cell_type": "code",
   "execution_count": 19,
   "metadata": {},
   "outputs": [],
   "source": [
    "from gensim.models import Word2Vec, KeyedVectors\n",
    "from nltk import sent_tokenize\n",
    "from gensim.utils import simple_preprocess"
   ]
  },
  {
   "cell_type": "code",
   "execution_count": 20,
   "metadata": {},
   "outputs": [],
   "source": [
    "words = []\n",
    "for sent in df['Text']:\n",
    "    sent_token = sent_tokenize(sent)\n",
    "    for sent in sent_token:\n",
    "        words.append(simple_preprocess(sent))"
   ]
  },
  {
   "cell_type": "code",
   "execution_count": 21,
   "metadata": {},
   "outputs": [],
   "source": [
    "model = gensim.models.Word2Vec(words)"
   ]
  },
  {
   "cell_type": "code",
   "execution_count": 22,
   "metadata": {},
   "outputs": [
    {
     "data": {
      "text/plain": [
       "<gensim.models.word2vec.Word2Vec at 0x20e88f4aaf0>"
      ]
     },
     "execution_count": 22,
     "metadata": {},
     "output_type": "execute_result"
    }
   ],
   "source": [
    "model"
   ]
  },
  {
   "cell_type": "code",
   "execution_count": 23,
   "metadata": {},
   "outputs": [
    {
     "data": {
      "text/plain": [
       "5"
      ]
     },
     "execution_count": 23,
     "metadata": {},
     "output_type": "execute_result"
    }
   ],
   "source": [
    "model.epochs"
   ]
  },
  {
   "cell_type": "code",
   "execution_count": 24,
   "metadata": {},
   "outputs": [
    {
     "data": {
      "text/plain": [
       "1003"
      ]
     },
     "execution_count": 24,
     "metadata": {},
     "output_type": "execute_result"
    }
   ],
   "source": [
    "len(model.wv.index_to_key)"
   ]
  },
  {
   "cell_type": "code",
   "execution_count": 25,
   "metadata": {},
   "outputs": [
    {
     "data": {
      "text/plain": [
       "array([-2.17718169e-01,  1.16003089e-01,  2.95911040e-02, -1.14676036e-01,\n",
       "        7.69960210e-02, -6.25517249e-01,  3.03292483e-01,  7.60368526e-01,\n",
       "       -3.69531333e-01,  5.34489052e-03, -1.45321697e-01, -4.56922770e-01,\n",
       "       -5.30060045e-02,  1.66528419e-01, -6.53197393e-02, -1.68569729e-01,\n",
       "       -5.47744818e-02, -4.88823950e-01, -7.96662271e-02, -6.53907537e-01,\n",
       "        1.76732913e-01,  1.06539287e-01,  1.00882396e-01, -6.83963969e-02,\n",
       "       -1.49616122e-01, -1.83213148e-02, -1.03516892e-01, -2.09936738e-01,\n",
       "       -3.49113971e-01, -1.56250864e-01,  5.09314656e-01,  1.34345576e-01,\n",
       "        2.07930312e-01, -7.52030984e-02, -1.30658180e-01,  4.50222135e-01,\n",
       "       -1.57853868e-02, -3.84478629e-01, -2.44991899e-01, -5.90480626e-01,\n",
       "        4.25078720e-02, -2.86177635e-01, -2.26748526e-01,  2.87440941e-02,\n",
       "        4.30231273e-01, -7.48602003e-02, -2.74948239e-01,  1.50877640e-01,\n",
       "        1.76860675e-01,  1.69820070e-01,  1.49468869e-01, -3.05349708e-01,\n",
       "       -2.17285641e-02, -1.00916274e-01, -1.07008621e-01,  2.58381277e-01,\n",
       "        5.30699156e-02, -2.41371438e-01, -3.45198423e-01,  6.39342889e-02,\n",
       "        1.33076131e-01,  1.77622080e-01,  4.33386362e-04, -1.54330254e-01,\n",
       "       -4.78622288e-01,  1.63376912e-01,  3.68022949e-01,  4.94709790e-01,\n",
       "       -4.28476095e-01,  4.78100419e-01, -1.82761028e-01,  1.02954641e-01,\n",
       "        2.42601231e-01, -5.84063530e-02,  2.79846221e-01,  3.71197402e-01,\n",
       "       -2.29256466e-01, -2.03199640e-01, -2.59761423e-01,  2.22253665e-01,\n",
       "       -1.39191270e-01, -2.14444399e-02, -3.49362433e-01,  5.93057692e-01,\n",
       "       -2.28702910e-02,  1.26241697e-02,  1.31942481e-01,  4.42354292e-01,\n",
       "        3.03229779e-01,  8.34386423e-02,  5.13516188e-01,  2.47519612e-01,\n",
       "       -5.04443273e-02,  7.00148121e-02,  5.67646801e-01,  2.72808194e-01,\n",
       "        1.51034579e-01, -3.73193562e-01,  1.95267931e-01, -7.76159838e-02],\n",
       "      dtype=float32)"
      ]
     },
     "execution_count": 25,
     "metadata": {},
     "output_type": "execute_result"
    }
   ],
   "source": [
    "model.wv['workday']"
   ]
  },
  {
   "cell_type": "markdown",
   "metadata": {},
   "source": [
    "## AVG_Word2Vec"
   ]
  },
  {
   "cell_type": "code",
   "execution_count": 26,
   "metadata": {},
   "outputs": [],
   "source": [
    "def avg_word_2_vec(doc):\n",
    "  return np.mean([model.wv[word] for word in doc.split() if word in model.wv.index_to_key],axis=0)"
   ]
  },
  {
   "cell_type": "code",
   "execution_count": 27,
   "metadata": {},
   "outputs": [],
   "source": [
    "from sklearn.model_selection import train_test_split"
   ]
  },
  {
   "cell_type": "code",
   "execution_count": 28,
   "metadata": {},
   "outputs": [],
   "source": [
    "Train_df,Test_df = train_test_split(df,test_size=0.2,random_state=42)"
   ]
  },
  {
   "cell_type": "code",
   "execution_count": 29,
   "metadata": {},
   "outputs": [],
   "source": [
    "x_Train,y_Train = Train_df['Text'],Train_df['label']\n",
    "x_Test,y_Test = Test_df['Text'],Test_df['label']"
   ]
  },
  {
   "cell_type": "code",
   "execution_count": 30,
   "metadata": {},
   "outputs": [],
   "source": [
    "x_Train_Final = []\n",
    "for sent in x_Train:\n",
    "  x_Train_Final.append(avg_word_2_vec(sent))"
   ]
  },
  {
   "cell_type": "code",
   "execution_count": 31,
   "metadata": {},
   "outputs": [
    {
     "data": {
      "text/plain": [
       "64"
      ]
     },
     "execution_count": 31,
     "metadata": {},
     "output_type": "execute_result"
    }
   ],
   "source": [
    "len(x_Train_Final)"
   ]
  },
  {
   "cell_type": "code",
   "execution_count": 32,
   "metadata": {},
   "outputs": [],
   "source": [
    "x_Test_Final = []\n",
    "for sent in x_Test:\n",
    "  x_Test_Final.append(avg_word_2_vec(sent))"
   ]
  },
  {
   "cell_type": "code",
   "execution_count": 33,
   "metadata": {},
   "outputs": [
    {
     "data": {
      "text/plain": [
       "16"
      ]
     },
     "execution_count": 33,
     "metadata": {},
     "output_type": "execute_result"
    }
   ],
   "source": [
    "len(x_Test_Final)"
   ]
  },
  {
   "cell_type": "markdown",
   "metadata": {},
   "source": [
    "## Model Building"
   ]
  },
  {
   "cell_type": "code",
   "execution_count": 34,
   "metadata": {},
   "outputs": [],
   "source": [
    "from sklearn.ensemble import RandomForestClassifier\n",
    "from sklearn.metrics import accuracy_score,classification_report,confusion_matrix"
   ]
  },
  {
   "cell_type": "code",
   "execution_count": 35,
   "metadata": {},
   "outputs": [],
   "source": [
    "rdm_clf = RandomForestClassifier()"
   ]
  },
  {
   "cell_type": "code",
   "execution_count": 36,
   "metadata": {},
   "outputs": [
    {
     "data": {
      "text/html": [
       "<style>#sk-container-id-1 {color: black;}#sk-container-id-1 pre{padding: 0;}#sk-container-id-1 div.sk-toggleable {background-color: white;}#sk-container-id-1 label.sk-toggleable__label {cursor: pointer;display: block;width: 100%;margin-bottom: 0;padding: 0.3em;box-sizing: border-box;text-align: center;}#sk-container-id-1 label.sk-toggleable__label-arrow:before {content: \"▸\";float: left;margin-right: 0.25em;color: #696969;}#sk-container-id-1 label.sk-toggleable__label-arrow:hover:before {color: black;}#sk-container-id-1 div.sk-estimator:hover label.sk-toggleable__label-arrow:before {color: black;}#sk-container-id-1 div.sk-toggleable__content {max-height: 0;max-width: 0;overflow: hidden;text-align: left;background-color: #f0f8ff;}#sk-container-id-1 div.sk-toggleable__content pre {margin: 0.2em;color: black;border-radius: 0.25em;background-color: #f0f8ff;}#sk-container-id-1 input.sk-toggleable__control:checked~div.sk-toggleable__content {max-height: 200px;max-width: 100%;overflow: auto;}#sk-container-id-1 input.sk-toggleable__control:checked~label.sk-toggleable__label-arrow:before {content: \"▾\";}#sk-container-id-1 div.sk-estimator input.sk-toggleable__control:checked~label.sk-toggleable__label {background-color: #d4ebff;}#sk-container-id-1 div.sk-label input.sk-toggleable__control:checked~label.sk-toggleable__label {background-color: #d4ebff;}#sk-container-id-1 input.sk-hidden--visually {border: 0;clip: rect(1px 1px 1px 1px);clip: rect(1px, 1px, 1px, 1px);height: 1px;margin: -1px;overflow: hidden;padding: 0;position: absolute;width: 1px;}#sk-container-id-1 div.sk-estimator {font-family: monospace;background-color: #f0f8ff;border: 1px dotted black;border-radius: 0.25em;box-sizing: border-box;margin-bottom: 0.5em;}#sk-container-id-1 div.sk-estimator:hover {background-color: #d4ebff;}#sk-container-id-1 div.sk-parallel-item::after {content: \"\";width: 100%;border-bottom: 1px solid gray;flex-grow: 1;}#sk-container-id-1 div.sk-label:hover label.sk-toggleable__label {background-color: #d4ebff;}#sk-container-id-1 div.sk-serial::before {content: \"\";position: absolute;border-left: 1px solid gray;box-sizing: border-box;top: 0;bottom: 0;left: 50%;z-index: 0;}#sk-container-id-1 div.sk-serial {display: flex;flex-direction: column;align-items: center;background-color: white;padding-right: 0.2em;padding-left: 0.2em;position: relative;}#sk-container-id-1 div.sk-item {position: relative;z-index: 1;}#sk-container-id-1 div.sk-parallel {display: flex;align-items: stretch;justify-content: center;background-color: white;position: relative;}#sk-container-id-1 div.sk-item::before, #sk-container-id-1 div.sk-parallel-item::before {content: \"\";position: absolute;border-left: 1px solid gray;box-sizing: border-box;top: 0;bottom: 0;left: 50%;z-index: -1;}#sk-container-id-1 div.sk-parallel-item {display: flex;flex-direction: column;z-index: 1;position: relative;background-color: white;}#sk-container-id-1 div.sk-parallel-item:first-child::after {align-self: flex-end;width: 50%;}#sk-container-id-1 div.sk-parallel-item:last-child::after {align-self: flex-start;width: 50%;}#sk-container-id-1 div.sk-parallel-item:only-child::after {width: 0;}#sk-container-id-1 div.sk-dashed-wrapped {border: 1px dashed gray;margin: 0 0.4em 0.5em 0.4em;box-sizing: border-box;padding-bottom: 0.4em;background-color: white;}#sk-container-id-1 div.sk-label label {font-family: monospace;font-weight: bold;display: inline-block;line-height: 1.2em;}#sk-container-id-1 div.sk-label-container {text-align: center;}#sk-container-id-1 div.sk-container {/* jupyter's `normalize.less` sets `[hidden] { display: none; }` but bootstrap.min.css set `[hidden] { display: none !important; }` so we also need the `!important` here to be able to override the default hidden behavior on the sphinx rendered scikit-learn.org. See: https://github.com/scikit-learn/scikit-learn/issues/21755 */display: inline-block !important;position: relative;}#sk-container-id-1 div.sk-text-repr-fallback {display: none;}</style><div id=\"sk-container-id-1\" class=\"sk-top-container\"><div class=\"sk-text-repr-fallback\"><pre>RandomForestClassifier()</pre><b>In a Jupyter environment, please rerun this cell to show the HTML representation or trust the notebook. <br />On GitHub, the HTML representation is unable to render, please try loading this page with nbviewer.org.</b></div><div class=\"sk-container\" hidden><div class=\"sk-item\"><div class=\"sk-estimator sk-toggleable\"><input class=\"sk-toggleable__control sk-hidden--visually\" id=\"sk-estimator-id-1\" type=\"checkbox\" checked><label for=\"sk-estimator-id-1\" class=\"sk-toggleable__label sk-toggleable__label-arrow\">RandomForestClassifier</label><div class=\"sk-toggleable__content\"><pre>RandomForestClassifier()</pre></div></div></div></div></div>"
      ],
      "text/plain": [
       "RandomForestClassifier()"
      ]
     },
     "execution_count": 36,
     "metadata": {},
     "output_type": "execute_result"
    }
   ],
   "source": [
    "rdm_clf.fit(x_Train_Final,y_Train)"
   ]
  },
  {
   "cell_type": "code",
   "execution_count": 37,
   "metadata": {},
   "outputs": [],
   "source": [
    "train_pred = rdm_clf.predict(x_Train_Final)"
   ]
  },
  {
   "cell_type": "code",
   "execution_count": 38,
   "metadata": {},
   "outputs": [
    {
     "name": "stdout",
     "output_type": "stream",
     "text": [
      "Training_Accuracy:- 1.0\n"
     ]
    }
   ],
   "source": [
    "Train_Accu = accuracy_score(y_Train,train_pred)\n",
    "print('Training_Accuracy:-',Train_Accu)"
   ]
  },
  {
   "cell_type": "code",
   "execution_count": 39,
   "metadata": {},
   "outputs": [],
   "source": [
    "test_pred = rdm_clf.predict(x_Test_Final)"
   ]
  },
  {
   "cell_type": "code",
   "execution_count": 40,
   "metadata": {},
   "outputs": [
    {
     "name": "stdout",
     "output_type": "stream",
     "text": [
      "Testing_Accuracy:- 0.875\n"
     ]
    }
   ],
   "source": [
    "Test_Accu = accuracy_score(y_Test,test_pred)\n",
    "print('Testing_Accuracy:-',Test_Accu)"
   ]
  },
  {
   "cell_type": "code",
   "execution_count": 41,
   "metadata": {},
   "outputs": [
    {
     "name": "stdout",
     "output_type": "stream",
     "text": [
      "              precision    recall  f1-score   support\n",
      "\n",
      "           0       0.75      1.00      0.86         3\n",
      "           1       1.00      1.00      1.00         3\n",
      "           2       1.00      0.50      0.67         4\n",
      "           3       0.86      1.00      0.92         6\n",
      "\n",
      "    accuracy                           0.88        16\n",
      "   macro avg       0.90      0.88      0.86        16\n",
      "weighted avg       0.90      0.88      0.86        16\n",
      "\n"
     ]
    }
   ],
   "source": [
    "print(classification_report(y_Test, test_pred))"
   ]
  },
  {
   "cell_type": "markdown",
   "metadata": {},
   "source": [
    "## Hyperparameter Tunning using Optuna"
   ]
  },
  {
   "cell_type": "code",
   "execution_count": 43,
   "metadata": {},
   "outputs": [
    {
     "name": "stderr",
     "output_type": "stream",
     "text": [
      "d:\\Internship_Project\\even\\lib\\site-packages\\tqdm\\auto.py:21: TqdmWarning: IProgress not found. Please update jupyter and ipywidgets. See https://ipywidgets.readthedocs.io/en/stable/user_install.html\n",
      "  from .autonotebook import tqdm as notebook_tqdm\n"
     ]
    }
   ],
   "source": [
    "import optuna\n",
    "from sklearn.model_selection import cross_val_score\n",
    "import warnings\n",
    "warnings.filterwarnings('ignore')"
   ]
  },
  {
   "cell_type": "code",
   "execution_count": 44,
   "metadata": {},
   "outputs": [],
   "source": [
    "def objective(trial):\n",
    "    n_estimators = trial.suggest_int('n_estimators',50,250)\n",
    "    max_depth = trial.suggest_int('max_depth',3,25)\n",
    "    min_samples_split = trial.suggest_int('min_samples_split', 2, 20)\n",
    "    min_samples_leaf = trial.suggest_int('min_samples_leaf', 1, 20)\n",
    "    max_features = trial.suggest_categorical('max_features', ['sqrt', 'log2', None])\n",
    "\n",
    "    model = RandomForestClassifier(\n",
    "        n_estimators=n_estimators,\n",
    "        max_depth=max_depth,\n",
    "        min_samples_split=min_samples_split,\n",
    "        min_samples_leaf=min_samples_leaf,\n",
    "        max_features=max_features,\n",
    "        bootstrap=True,\n",
    "        oob_score=True,\n",
    "        random_state=42\n",
    "    )\n",
    "    scores = cross_val_score(model, x_Train_Final, y_Train, cv=5,scoring='accuracy').mean()\n",
    "\n",
    "    return scores"
   ]
  },
  {
   "cell_type": "code",
   "execution_count": 46,
   "metadata": {},
   "outputs": [
    {
     "name": "stderr",
     "output_type": "stream",
     "text": [
      "[I 2024-12-12 21:27:07,350] A new study created in memory with name: no-name-c9d5d9ff-aba7-464c-8925-88b2c48d0249\n",
      "[I 2024-12-12 21:27:10,216] Trial 0 finished with value: 0.8435897435897436 and parameters: {'n_estimators': 185, 'max_depth': 4, 'min_samples_split': 12, 'min_samples_leaf': 12, 'max_features': None}. Best is trial 0 with value: 0.8435897435897436.\n",
      "[I 2024-12-12 21:27:11,672] Trial 1 finished with value: 0.9064102564102564 and parameters: {'n_estimators': 80, 'max_depth': 25, 'min_samples_split': 16, 'min_samples_leaf': 3, 'max_features': None}. Best is trial 1 with value: 0.9064102564102564.\n",
      "[I 2024-12-12 21:27:14,893] Trial 2 finished with value: 0.8602564102564102 and parameters: {'n_estimators': 220, 'max_depth': 13, 'min_samples_split': 20, 'min_samples_leaf': 5, 'max_features': None}. Best is trial 1 with value: 0.9064102564102564.\n",
      "[I 2024-12-12 21:27:16,207] Trial 3 finished with value: 0.3435897435897436 and parameters: {'n_estimators': 181, 'max_depth': 3, 'min_samples_split': 15, 'min_samples_leaf': 20, 'max_features': 'sqrt'}. Best is trial 1 with value: 0.9064102564102564.\n",
      "[I 2024-12-12 21:27:17,057] Trial 4 finished with value: 0.8448717948717949 and parameters: {'n_estimators': 114, 'max_depth': 25, 'min_samples_split': 12, 'min_samples_leaf': 11, 'max_features': 'sqrt'}. Best is trial 1 with value: 0.9064102564102564.\n",
      "[I 2024-12-12 21:27:18,448] Trial 5 finished with value: 0.9384615384615385 and parameters: {'n_estimators': 118, 'max_depth': 21, 'min_samples_split': 14, 'min_samples_leaf': 4, 'max_features': None}. Best is trial 5 with value: 0.9384615384615385.\n",
      "[I 2024-12-12 21:27:19,009] Trial 6 finished with value: 0.8294871794871795 and parameters: {'n_estimators': 73, 'max_depth': 21, 'min_samples_split': 12, 'min_samples_leaf': 9, 'max_features': 'log2'}. Best is trial 5 with value: 0.9384615384615385.\n",
      "[I 2024-12-12 21:27:20,100] Trial 7 finished with value: 0.9692307692307693 and parameters: {'n_estimators': 87, 'max_depth': 20, 'min_samples_split': 9, 'min_samples_leaf': 5, 'max_features': None}. Best is trial 7 with value: 0.9692307692307693.\n",
      "[I 2024-12-12 21:27:21,692] Trial 8 finished with value: 0.9384615384615385 and parameters: {'n_estimators': 204, 'max_depth': 19, 'min_samples_split': 7, 'min_samples_leaf': 1, 'max_features': 'sqrt'}. Best is trial 7 with value: 0.9692307692307693.\n",
      "[I 2024-12-12 21:27:23,042] Trial 9 finished with value: 0.9384615384615385 and parameters: {'n_estimators': 173, 'max_depth': 13, 'min_samples_split': 7, 'min_samples_leaf': 3, 'max_features': 'sqrt'}. Best is trial 7 with value: 0.9692307692307693.\n",
      "[I 2024-12-12 21:27:24,013] Trial 10 finished with value: 0.7807692307692308 and parameters: {'n_estimators': 129, 'max_depth': 9, 'min_samples_split': 2, 'min_samples_leaf': 17, 'max_features': 'log2'}. Best is trial 7 with value: 0.9692307692307693.\n",
      "[I 2024-12-12 21:27:25,265] Trial 11 finished with value: 0.9230769230769231 and parameters: {'n_estimators': 108, 'max_depth': 19, 'min_samples_split': 8, 'min_samples_leaf': 7, 'max_features': None}. Best is trial 7 with value: 0.9692307692307693.\n",
      "[I 2024-12-12 21:27:25,994] Trial 12 finished with value: 0.9064102564102564 and parameters: {'n_estimators': 64, 'max_depth': 17, 'min_samples_split': 17, 'min_samples_leaf': 7, 'max_features': None}. Best is trial 7 with value: 0.9692307692307693.\n",
      "[I 2024-12-12 21:27:27,334] Trial 13 finished with value: 0.8435897435897436 and parameters: {'n_estimators': 144, 'max_depth': 22, 'min_samples_split': 9, 'min_samples_leaf': 14, 'max_features': None}. Best is trial 7 with value: 0.9692307692307693.\n",
      "[I 2024-12-12 21:27:28,592] Trial 14 finished with value: 0.9692307692307693 and parameters: {'n_estimators': 99, 'max_depth': 15, 'min_samples_split': 4, 'min_samples_leaf': 6, 'max_features': None}. Best is trial 7 with value: 0.9692307692307693.\n",
      "[I 2024-12-12 21:27:29,626] Trial 15 finished with value: 0.9217948717948719 and parameters: {'n_estimators': 91, 'max_depth': 16, 'min_samples_split': 3, 'min_samples_leaf': 8, 'max_features': None}. Best is trial 7 with value: 0.9692307692307693.\n",
      "[I 2024-12-12 21:27:31,546] Trial 16 finished with value: 0.9384615384615385 and parameters: {'n_estimators': 245, 'max_depth': 8, 'min_samples_split': 5, 'min_samples_leaf': 1, 'max_features': 'log2'}. Best is trial 7 with value: 0.9692307692307693.\n",
      "[I 2024-12-12 21:27:32,217] Trial 17 finished with value: 0.953846153846154 and parameters: {'n_estimators': 54, 'max_depth': 10, 'min_samples_split': 5, 'min_samples_leaf': 6, 'max_features': None}. Best is trial 7 with value: 0.9692307692307693.\n",
      "[I 2024-12-12 21:27:33,847] Trial 18 finished with value: 0.8756410256410257 and parameters: {'n_estimators': 154, 'max_depth': 15, 'min_samples_split': 10, 'min_samples_leaf': 9, 'max_features': None}. Best is trial 7 with value: 0.9692307692307693.\n",
      "[I 2024-12-12 21:27:34,650] Trial 19 finished with value: 0.8282051282051281 and parameters: {'n_estimators': 95, 'max_depth': 11, 'min_samples_split': 5, 'min_samples_leaf': 12, 'max_features': 'log2'}. Best is trial 7 with value: 0.9692307692307693.\n",
      "[I 2024-12-12 21:27:36,442] Trial 20 finished with value: 0.8282051282051283 and parameters: {'n_estimators': 142, 'max_depth': 18, 'min_samples_split': 3, 'min_samples_leaf': 14, 'max_features': None}. Best is trial 7 with value: 0.9692307692307693.\n",
      "[I 2024-12-12 21:27:37,134] Trial 21 finished with value: 0.953846153846154 and parameters: {'n_estimators': 50, 'max_depth': 7, 'min_samples_split': 6, 'min_samples_leaf': 6, 'max_features': None}. Best is trial 7 with value: 0.9692307692307693.\n",
      "[I 2024-12-12 21:27:38,319] Trial 22 finished with value: 0.9692307692307693 and parameters: {'n_estimators': 91, 'max_depth': 10, 'min_samples_split': 4, 'min_samples_leaf': 5, 'max_features': None}. Best is trial 7 with value: 0.9692307692307693.\n",
      "[I 2024-12-12 21:27:39,512] Trial 23 finished with value: 0.9692307692307693 and parameters: {'n_estimators': 97, 'max_depth': 6, 'min_samples_split': 2, 'min_samples_leaf': 3, 'max_features': None}. Best is trial 7 with value: 0.9692307692307693.\n",
      "[I 2024-12-12 21:27:40,456] Trial 24 finished with value: 0.9692307692307693 and parameters: {'n_estimators': 73, 'max_depth': 12, 'min_samples_split': 10, 'min_samples_leaf': 5, 'max_features': None}. Best is trial 7 with value: 0.9692307692307693.\n",
      "[I 2024-12-12 21:27:41,788] Trial 25 finished with value: 0.8756410256410257 and parameters: {'n_estimators': 130, 'max_depth': 15, 'min_samples_split': 4, 'min_samples_leaf': 9, 'max_features': None}. Best is trial 7 with value: 0.9692307692307693.\n",
      "[I 2024-12-12 21:27:43,028] Trial 26 finished with value: 0.9692307692307693 and parameters: {'n_estimators': 90, 'max_depth': 23, 'min_samples_split': 7, 'min_samples_leaf': 2, 'max_features': None}. Best is trial 7 with value: 0.9692307692307693.\n",
      "[I 2024-12-12 21:27:43,809] Trial 27 finished with value: 0.9384615384615385 and parameters: {'n_estimators': 101, 'max_depth': 11, 'min_samples_split': 4, 'min_samples_leaf': 5, 'max_features': 'log2'}. Best is trial 7 with value: 0.9692307692307693.\n",
      "[I 2024-12-12 21:27:44,805] Trial 28 finished with value: 0.8602564102564102 and parameters: {'n_estimators': 125, 'max_depth': 14, 'min_samples_split': 9, 'min_samples_leaf': 8, 'max_features': 'sqrt'}. Best is trial 7 with value: 0.9692307692307693.\n",
      "[I 2024-12-12 21:27:46,437] Trial 29 finished with value: 0.8602564102564102 and parameters: {'n_estimators': 165, 'max_depth': 6, 'min_samples_split': 13, 'min_samples_leaf': 10, 'max_features': None}. Best is trial 7 with value: 0.9692307692307693.\n",
      "[I 2024-12-12 21:27:47,429] Trial 30 finished with value: 0.9692307692307693 and parameters: {'n_estimators': 79, 'max_depth': 17, 'min_samples_split': 6, 'min_samples_leaf': 4, 'max_features': None}. Best is trial 7 with value: 0.9692307692307693.\n",
      "[I 2024-12-12 21:27:48,756] Trial 31 finished with value: 0.9692307692307693 and parameters: {'n_estimators': 103, 'max_depth': 5, 'min_samples_split': 3, 'min_samples_leaf': 3, 'max_features': None}. Best is trial 7 with value: 0.9692307692307693.\n",
      "[I 2024-12-12 21:27:49,807] Trial 32 finished with value: 0.9692307692307693 and parameters: {'n_estimators': 83, 'max_depth': 4, 'min_samples_split': 2, 'min_samples_leaf': 4, 'max_features': None}. Best is trial 7 with value: 0.9692307692307693.\n",
      "[I 2024-12-12 21:27:50,685] Trial 33 finished with value: 0.9692307692307693 and parameters: {'n_estimators': 69, 'max_depth': 8, 'min_samples_split': 2, 'min_samples_leaf': 2, 'max_features': None}. Best is trial 7 with value: 0.9692307692307693.\n",
      "[I 2024-12-12 21:27:51,701] Trial 34 finished with value: 0.9538461538461538 and parameters: {'n_estimators': 87, 'max_depth': 6, 'min_samples_split': 4, 'min_samples_leaf': 6, 'max_features': None}. Best is trial 7 with value: 0.9692307692307693.\n",
      "[I 2024-12-12 21:27:53,022] Trial 35 finished with value: 0.9064102564102565 and parameters: {'n_estimators': 112, 'max_depth': 3, 'min_samples_split': 19, 'min_samples_leaf': 2, 'max_features': None}. Best is trial 7 with value: 0.9692307692307693.\n",
      "[I 2024-12-12 21:27:53,827] Trial 36 finished with value: 0.953846153846154 and parameters: {'n_estimators': 59, 'max_depth': 10, 'min_samples_split': 6, 'min_samples_leaf': 3, 'max_features': None}. Best is trial 7 with value: 0.9692307692307693.\n",
      "[I 2024-12-12 21:27:54,762] Trial 37 finished with value: 0.923076923076923 and parameters: {'n_estimators': 119, 'max_depth': 24, 'min_samples_split': 11, 'min_samples_leaf': 5, 'max_features': 'sqrt'}. Best is trial 7 with value: 0.9692307692307693.\n",
      "[I 2024-12-12 21:27:55,962] Trial 38 finished with value: 0.9230769230769231 and parameters: {'n_estimators': 102, 'max_depth': 13, 'min_samples_split': 3, 'min_samples_leaf': 7, 'max_features': None}. Best is trial 7 with value: 0.9692307692307693.\n",
      "[I 2024-12-12 21:27:57,591] Trial 39 finished with value: 0.9692307692307693 and parameters: {'n_estimators': 137, 'max_depth': 21, 'min_samples_split': 8, 'min_samples_leaf': 4, 'max_features': None}. Best is trial 7 with value: 0.9692307692307693.\n",
      "[I 2024-12-12 21:27:59,005] Trial 40 finished with value: 0.8435897435897436 and parameters: {'n_estimators': 190, 'max_depth': 20, 'min_samples_split': 4, 'min_samples_leaf': 12, 'max_features': 'sqrt'}. Best is trial 7 with value: 0.9692307692307693.\n",
      "[I 2024-12-12 21:27:59,941] Trial 41 finished with value: 0.9692307692307693 and parameters: {'n_estimators': 75, 'max_depth': 12, 'min_samples_split': 11, 'min_samples_leaf': 5, 'max_features': None}. Best is trial 7 with value: 0.9692307692307693.\n",
      "[I 2024-12-12 21:28:00,736] Trial 42 finished with value: 0.9384615384615385 and parameters: {'n_estimators': 67, 'max_depth': 12, 'min_samples_split': 13, 'min_samples_leaf': 5, 'max_features': None}. Best is trial 7 with value: 0.9692307692307693.\n",
      "[I 2024-12-12 21:28:01,622] Trial 43 finished with value: 0.9384615384615385 and parameters: {'n_estimators': 77, 'max_depth': 9, 'min_samples_split': 15, 'min_samples_leaf': 3, 'max_features': None}. Best is trial 7 with value: 0.9692307692307693.\n",
      "[I 2024-12-12 21:28:02,783] Trial 44 finished with value: 0.9692307692307693 and parameters: {'n_estimators': 95, 'max_depth': 14, 'min_samples_split': 10, 'min_samples_leaf': 6, 'max_features': None}. Best is trial 7 with value: 0.9692307692307693.\n",
      "[I 2024-12-12 21:28:03,613] Trial 45 finished with value: 0.3435897435897436 and parameters: {'n_estimators': 112, 'max_depth': 12, 'min_samples_split': 8, 'min_samples_leaf': 19, 'max_features': 'log2'}. Best is trial 7 with value: 0.9692307692307693.\n",
      "[I 2024-12-12 21:28:04,299] Trial 46 finished with value: 0.9064102564102564 and parameters: {'n_estimators': 61, 'max_depth': 8, 'min_samples_split': 9, 'min_samples_leaf': 8, 'max_features': None}. Best is trial 7 with value: 0.9692307692307693.\n",
      "[I 2024-12-12 21:28:05,436] Trial 47 finished with value: 0.9692307692307693 and parameters: {'n_estimators': 85, 'max_depth': 10, 'min_samples_split': 2, 'min_samples_leaf': 1, 'max_features': None}. Best is trial 7 with value: 0.9692307692307693.\n",
      "[I 2024-12-12 21:28:06,421] Trial 48 finished with value: 0.923076923076923 and parameters: {'n_estimators': 120, 'max_depth': 15, 'min_samples_split': 7, 'min_samples_leaf': 7, 'max_features': 'sqrt'}. Best is trial 7 with value: 0.9692307692307693.\n",
      "[I 2024-12-12 21:28:07,376] Trial 49 finished with value: 0.9692307692307693 and parameters: {'n_estimators': 72, 'max_depth': 17, 'min_samples_split': 10, 'min_samples_leaf': 4, 'max_features': None}. Best is trial 7 with value: 0.9692307692307693.\n"
     ]
    }
   ],
   "source": [
    "study = optuna.create_study(direction='maximize')\n",
    "\n",
    "study.optimize(objective, n_trials=50)"
   ]
  },
  {
   "cell_type": "code",
   "execution_count": 47,
   "metadata": {},
   "outputs": [],
   "source": [
    "params = study.best_params"
   ]
  },
  {
   "cell_type": "code",
   "execution_count": 48,
   "metadata": {},
   "outputs": [
    {
     "data": {
      "text/plain": [
       "0.9692307692307693"
      ]
     },
     "execution_count": 48,
     "metadata": {},
     "output_type": "execute_result"
    }
   ],
   "source": [
    "study.best_trial.value"
   ]
  },
  {
   "cell_type": "code",
   "execution_count": 49,
   "metadata": {},
   "outputs": [],
   "source": [
    "final_model = RandomForestClassifier(**params)"
   ]
  },
  {
   "cell_type": "code",
   "execution_count": 50,
   "metadata": {},
   "outputs": [
    {
     "data": {
      "text/html": [
       "<style>#sk-container-id-2 {color: black;}#sk-container-id-2 pre{padding: 0;}#sk-container-id-2 div.sk-toggleable {background-color: white;}#sk-container-id-2 label.sk-toggleable__label {cursor: pointer;display: block;width: 100%;margin-bottom: 0;padding: 0.3em;box-sizing: border-box;text-align: center;}#sk-container-id-2 label.sk-toggleable__label-arrow:before {content: \"▸\";float: left;margin-right: 0.25em;color: #696969;}#sk-container-id-2 label.sk-toggleable__label-arrow:hover:before {color: black;}#sk-container-id-2 div.sk-estimator:hover label.sk-toggleable__label-arrow:before {color: black;}#sk-container-id-2 div.sk-toggleable__content {max-height: 0;max-width: 0;overflow: hidden;text-align: left;background-color: #f0f8ff;}#sk-container-id-2 div.sk-toggleable__content pre {margin: 0.2em;color: black;border-radius: 0.25em;background-color: #f0f8ff;}#sk-container-id-2 input.sk-toggleable__control:checked~div.sk-toggleable__content {max-height: 200px;max-width: 100%;overflow: auto;}#sk-container-id-2 input.sk-toggleable__control:checked~label.sk-toggleable__label-arrow:before {content: \"▾\";}#sk-container-id-2 div.sk-estimator input.sk-toggleable__control:checked~label.sk-toggleable__label {background-color: #d4ebff;}#sk-container-id-2 div.sk-label input.sk-toggleable__control:checked~label.sk-toggleable__label {background-color: #d4ebff;}#sk-container-id-2 input.sk-hidden--visually {border: 0;clip: rect(1px 1px 1px 1px);clip: rect(1px, 1px, 1px, 1px);height: 1px;margin: -1px;overflow: hidden;padding: 0;position: absolute;width: 1px;}#sk-container-id-2 div.sk-estimator {font-family: monospace;background-color: #f0f8ff;border: 1px dotted black;border-radius: 0.25em;box-sizing: border-box;margin-bottom: 0.5em;}#sk-container-id-2 div.sk-estimator:hover {background-color: #d4ebff;}#sk-container-id-2 div.sk-parallel-item::after {content: \"\";width: 100%;border-bottom: 1px solid gray;flex-grow: 1;}#sk-container-id-2 div.sk-label:hover label.sk-toggleable__label {background-color: #d4ebff;}#sk-container-id-2 div.sk-serial::before {content: \"\";position: absolute;border-left: 1px solid gray;box-sizing: border-box;top: 0;bottom: 0;left: 50%;z-index: 0;}#sk-container-id-2 div.sk-serial {display: flex;flex-direction: column;align-items: center;background-color: white;padding-right: 0.2em;padding-left: 0.2em;position: relative;}#sk-container-id-2 div.sk-item {position: relative;z-index: 1;}#sk-container-id-2 div.sk-parallel {display: flex;align-items: stretch;justify-content: center;background-color: white;position: relative;}#sk-container-id-2 div.sk-item::before, #sk-container-id-2 div.sk-parallel-item::before {content: \"\";position: absolute;border-left: 1px solid gray;box-sizing: border-box;top: 0;bottom: 0;left: 50%;z-index: -1;}#sk-container-id-2 div.sk-parallel-item {display: flex;flex-direction: column;z-index: 1;position: relative;background-color: white;}#sk-container-id-2 div.sk-parallel-item:first-child::after {align-self: flex-end;width: 50%;}#sk-container-id-2 div.sk-parallel-item:last-child::after {align-self: flex-start;width: 50%;}#sk-container-id-2 div.sk-parallel-item:only-child::after {width: 0;}#sk-container-id-2 div.sk-dashed-wrapped {border: 1px dashed gray;margin: 0 0.4em 0.5em 0.4em;box-sizing: border-box;padding-bottom: 0.4em;background-color: white;}#sk-container-id-2 div.sk-label label {font-family: monospace;font-weight: bold;display: inline-block;line-height: 1.2em;}#sk-container-id-2 div.sk-label-container {text-align: center;}#sk-container-id-2 div.sk-container {/* jupyter's `normalize.less` sets `[hidden] { display: none; }` but bootstrap.min.css set `[hidden] { display: none !important; }` so we also need the `!important` here to be able to override the default hidden behavior on the sphinx rendered scikit-learn.org. See: https://github.com/scikit-learn/scikit-learn/issues/21755 */display: inline-block !important;position: relative;}#sk-container-id-2 div.sk-text-repr-fallback {display: none;}</style><div id=\"sk-container-id-2\" class=\"sk-top-container\"><div class=\"sk-text-repr-fallback\"><pre>RandomForestClassifier(max_depth=20, max_features=None, min_samples_leaf=5,\n",
       "                       min_samples_split=9, n_estimators=87)</pre><b>In a Jupyter environment, please rerun this cell to show the HTML representation or trust the notebook. <br />On GitHub, the HTML representation is unable to render, please try loading this page with nbviewer.org.</b></div><div class=\"sk-container\" hidden><div class=\"sk-item\"><div class=\"sk-estimator sk-toggleable\"><input class=\"sk-toggleable__control sk-hidden--visually\" id=\"sk-estimator-id-2\" type=\"checkbox\" checked><label for=\"sk-estimator-id-2\" class=\"sk-toggleable__label sk-toggleable__label-arrow\">RandomForestClassifier</label><div class=\"sk-toggleable__content\"><pre>RandomForestClassifier(max_depth=20, max_features=None, min_samples_leaf=5,\n",
       "                       min_samples_split=9, n_estimators=87)</pre></div></div></div></div></div>"
      ],
      "text/plain": [
       "RandomForestClassifier(max_depth=20, max_features=None, min_samples_leaf=5,\n",
       "                       min_samples_split=9, n_estimators=87)"
      ]
     },
     "execution_count": 50,
     "metadata": {},
     "output_type": "execute_result"
    }
   ],
   "source": [
    "final_model.fit(x_Train_Final, y_Train)"
   ]
  },
  {
   "cell_type": "code",
   "execution_count": 51,
   "metadata": {},
   "outputs": [],
   "source": [
    "y_pred = final_model.predict(x_Test_Final)"
   ]
  },
  {
   "cell_type": "code",
   "execution_count": 52,
   "metadata": {},
   "outputs": [
    {
     "name": "stdout",
     "output_type": "stream",
     "text": [
      "Testing_Accuracy:- 0.8125\n"
     ]
    }
   ],
   "source": [
    "Test_Accu = accuracy_score(y_Test,y_pred)\n",
    "print('Testing_Accuracy:-',Test_Accu) "
   ]
  },
  {
   "cell_type": "code",
   "execution_count": 53,
   "metadata": {},
   "outputs": [
    {
     "name": "stdout",
     "output_type": "stream",
     "text": [
      "              precision    recall  f1-score   support\n",
      "\n",
      "           0       0.50      1.00      0.67         3\n",
      "           1       1.00      1.00      1.00         3\n",
      "           2       1.00      0.50      0.67         4\n",
      "           3       1.00      0.83      0.91         6\n",
      "\n",
      "    accuracy                           0.81        16\n",
      "   macro avg       0.88      0.83      0.81        16\n",
      "weighted avg       0.91      0.81      0.82        16\n",
      "\n"
     ]
    }
   ],
   "source": [
    "print(classification_report(y_Test,y_pred))  "
   ]
  },
  {
   "cell_type": "markdown",
   "metadata": {},
   "source": [
    "## Prediction "
   ]
  },
  {
   "cell_type": "code",
   "execution_count": 54,
   "metadata": {},
   "outputs": [
    {
     "data": {
      "text/plain": [
       "array([3, 0, 2, 1, 3, 2, 3, 3, 0, 1, 3, 3, 0, 3, 0, 1], dtype=int64)"
      ]
     },
     "execution_count": 54,
     "metadata": {},
     "output_type": "execute_result"
    }
   ],
   "source": [
    "test_pred"
   ]
  },
  {
   "cell_type": "code",
   "execution_count": 55,
   "metadata": {},
   "outputs": [
    {
     "name": "stdout",
     "output_type": "stream",
     "text": [
      "SQL Developer\n"
     ]
    }
   ],
   "source": [
    "if test_pred[4] == 0:\n",
    "    print('React Developer')\n",
    "elif test_pred[4] == 1:\n",
    "    print('workday')\n",
    "elif test_pred[4] == 2:\n",
    "    print('Peoplesoft')\n",
    "else:\n",
    "    print('SQL Developer')"
   ]
  },
  {
   "cell_type": "markdown",
   "metadata": {},
   "source": [
    "## Pickle Files"
   ]
  },
  {
   "cell_type": "code",
   "execution_count": 56,
   "metadata": {},
   "outputs": [],
   "source": [
    "import pickle"
   ]
  },
  {
   "cell_type": "code",
   "execution_count": 58,
   "metadata": {},
   "outputs": [],
   "source": [
    "# Pickle file for word2vec\n",
    "pickle.dump(model,open('word2vec.pkl','wb'))"
   ]
  },
  {
   "cell_type": "code",
   "execution_count": 59,
   "metadata": {},
   "outputs": [],
   "source": [
    "# Pickle file for Model \n",
    "pickle.dump(rdm_clf,open('model.pkl','wb'))"
   ]
  },
  {
   "cell_type": "code",
   "execution_count": null,
   "metadata": {},
   "outputs": [],
   "source": []
  }
 ],
 "metadata": {
  "kernelspec": {
   "display_name": "even",
   "language": "python",
   "name": "python3"
  },
  "language_info": {
   "codemirror_mode": {
    "name": "ipython",
    "version": 3
   },
   "file_extension": ".py",
   "mimetype": "text/x-python",
   "name": "python",
   "nbconvert_exporter": "python",
   "pygments_lexer": "ipython3",
   "version": "3.8.20"
  }
 },
 "nbformat": 4,
 "nbformat_minor": 2
}
