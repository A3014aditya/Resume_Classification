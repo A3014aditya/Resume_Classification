{
 "cells": [
  {
   "cell_type": "markdown",
   "metadata": {},
   "source": [
    "Data Creation"
   ]
  },
  {
   "cell_type": "code",
   "execution_count": 1,
   "metadata": {},
   "outputs": [],
   "source": [
    "import pdfplumber\n",
    "import docx\n",
    "import os\n",
    "import pandas as pd\n",
    "import numpy as np\n",
    "import seaborn as sns\n",
    "import matplotlib.pyplot as plt"
   ]
  },
  {
   "cell_type": "markdown",
   "metadata": {},
   "source": [
    "Function for PDF File Loader"
   ]
  },
  {
   "cell_type": "code",
   "execution_count": 2,
   "metadata": {},
   "outputs": [],
   "source": [
    "def extract_text_from_pdf(file_path):\n",
    "    with pdfplumber.open(file_path) as pdf:\n",
    "        text = \"\\n\".join(page.extract_text() for page in pdf.pages if page.extract_text())\n",
    "    return text"
   ]
  },
  {
   "cell_type": "markdown",
   "metadata": {},
   "source": [
    "Function for Docx File Loader"
   ]
  },
  {
   "cell_type": "code",
   "execution_count": 3,
   "metadata": {},
   "outputs": [],
   "source": [
    "def extract_text_from_docx(file_path):\n",
    "    doc = docx.Document(file_path)\n",
    "    text = \"\\n\".join(para.text for para in doc.paragraphs)\n",
    "    return text"
   ]
  },
  {
   "cell_type": "code",
   "execution_count": 4,
   "metadata": {},
   "outputs": [],
   "source": [
    "def dataset(dirname):\n",
    "    data_list =[]\n",
    "    for dir in os.listdir(\"Resume_Custom_Data\"):\n",
    "        for files in os.listdir(os.path.join('Resume_Custom_Data',dir)):\n",
    "            file_path = os.path.join('Resume_Custom_Data',dir, files)\n",
    "            if file_path.endswith(\".pdf\"):\n",
    "                text = extract_text_from_pdf(file_path)\n",
    "            elif file_path.endswith(\".docx\"):\n",
    "                text = extract_text_from_docx(file_path)\n",
    "            label= files.split('.')[0]\n",
    "            data = {\n",
    "                    'Text': text,\n",
    "                    'label':dir\n",
    "                }\n",
    "            data_list.append(data)\n",
    "    df = pd.DataFrame(data_list)\n",
    "    return df"
   ]
  },
  {
   "cell_type": "code",
   "execution_count": 5,
   "metadata": {},
   "outputs": [],
   "source": [
    "df = dataset('Resume_Custom_Data')"
   ]
  },
  {
   "cell_type": "code",
   "execution_count": 6,
   "metadata": {},
   "outputs": [
    {
     "data": {
      "text/html": [
       "<div>\n",
       "<style scoped>\n",
       "    .dataframe tbody tr th:only-of-type {\n",
       "        vertical-align: middle;\n",
       "    }\n",
       "\n",
       "    .dataframe tbody tr th {\n",
       "        vertical-align: top;\n",
       "    }\n",
       "\n",
       "    .dataframe thead th {\n",
       "        text-align: right;\n",
       "    }\n",
       "</style>\n",
       "<table border=\"1\" class=\"dataframe\">\n",
       "  <thead>\n",
       "    <tr style=\"text-align: right;\">\n",
       "      <th></th>\n",
       "      <th>Text</th>\n",
       "      <th>label</th>\n",
       "    </tr>\n",
       "  </thead>\n",
       "  <tbody>\n",
       "    <tr>\n",
       "      <th>0</th>\n",
       "      <td>Anubhav Kumar Singh\\t\\t\\n\\n  To work in a gl...</td>\n",
       "      <td>Peoplesoft</td>\n",
       "    </tr>\n",
       "    <tr>\n",
       "      <th>1</th>\n",
       "      <td>Anubhav Kumar Singh\\t\\t\\n\\n  To work in a gl...</td>\n",
       "      <td>Peoplesoft</td>\n",
       "    </tr>\n",
       "    <tr>\n",
       "      <th>2</th>\n",
       "      <td>Anubhav Kumar Singh\\t\\t\\n\\n  To work in a gl...</td>\n",
       "      <td>Peoplesoft</td>\n",
       "    </tr>\n",
       "    <tr>\n",
       "      <th>3</th>\n",
       "      <td>Murali\\n\\nExperience Summary \\n\\nI have 6 year...</td>\n",
       "      <td>Peoplesoft</td>\n",
       "    </tr>\n",
       "    <tr>\n",
       "      <th>4</th>\n",
       "      <td>Murali\\n\\nExperience Summary \\n\\nI have 6 year...</td>\n",
       "      <td>Peoplesoft</td>\n",
       "    </tr>\n",
       "  </tbody>\n",
       "</table>\n",
       "</div>"
      ],
      "text/plain": [
       "                                                Text       label\n",
       "0    Anubhav Kumar Singh\\t\\t\\n\\n  To work in a gl...  Peoplesoft\n",
       "1    Anubhav Kumar Singh\\t\\t\\n\\n  To work in a gl...  Peoplesoft\n",
       "2    Anubhav Kumar Singh\\t\\t\\n\\n  To work in a gl...  Peoplesoft\n",
       "3  Murali\\n\\nExperience Summary \\n\\nI have 6 year...  Peoplesoft\n",
       "4  Murali\\n\\nExperience Summary \\n\\nI have 6 year...  Peoplesoft"
      ]
     },
     "execution_count": 6,
     "metadata": {},
     "output_type": "execute_result"
    }
   ],
   "source": [
    "df.head()"
   ]
  },
  {
   "cell_type": "code",
   "execution_count": 7,
   "metadata": {},
   "outputs": [
    {
     "data": {
      "text/plain": [
       "\" PeopleSoft Admin\\nVARKALA VIKAS\\n\\nCareer Objective:\\n\\nI have total 4.2 Years’ Experience in PeopleSoft Admin and PeopleSoft DBA. I hope to enhance my skill set while adding value to the business, to enable implementation of solutions, which aid the company’s objectives, understanding and anticipating the needs, interests and motivations of the clients and to deliver on time, budget and to quality, delivering value through improving agility, quality and reliability\\n\\nProfessional Summary:\\n\\nHaving 4.2 years of experience in PeopleSoft implementation, Support, People Tools Upgrades, configuration, migrations, maintenance and administration of Application Server Domains, Process Scheduler Servers, Web Server Domains, PUM and Elastic search.\\nInvolved in various Tools and Application Upgrades.\\nExperience in driving Infrastructure Hardware Upgrades, Disaster Recovery Activities.\\nConfigured https and secure web server (SSL) administration.\\nMonitor system by developing and maintaining monitoring Shell scripts\\nExperience in Oracle Database Administration for 11gR2, 12cR1 and 12cR2\\nExperience in Health Check for all the PeopleSoft Environments\\nExperience in PeopleSoft Database Refreshes from Production to Development and Testing Environments\\nExperience in Performance and Tuning of Application Servers, Web Servers\\nExperience in Windows Administration\\nImplemented PeopleSoft Internet Architecture (PIA) on Demo, Test, Development and Production instances.\\nExtensively involved in resolving Performance issues.\\nExperience in PeopleSoft Installations of PeopleTools 8.56,8.57 HCM 9.2, WebLogic 12cr2 Tuxedo 12cR2 and People Books 8.56,8.57 Windows 2012R2\\nIn depth experience on PeopleSoft Update Manager (PUM) for applying PeopleTools patches, Application Bundles on PeopleTools and HRMS 9.2 and FSCM 9.2 Applications\\nIn Depth Experience in Integration Broker setup.\\nExperience in Secure Socket Layer (SSL) implementation on PeopleSoft.\\nProficiency in creation and configuration and administration of Application Server Domains, Process scheduler Domains, Web Server Domains\\nExperience in Reconfiguration of Application Server Domains, Process Scheduler Server Domains and Web Server domains.\\nExperience in Project Migrations using Application Designer and Data Migrations using Data Mover\\nExperience in generating Pre-compare reports and Post Compare Reports between various environments.\\n\\nExperience in setting up client Work Station for developers and testers.\\nExperience in resolving developer issues like resetting passwords, locking and unlocking user accounts.\\nMaintain the workflow of PeopleSoft users.\\nWorked on applying Patches, Bundles and Tax Updates using Change Assistant and\\nPeopleSoft Update Manager (PUM)\\nInstalling and Configuring Change Assistant to apply bundles and tax-updates.\\nInvolved in setup configuration of Integration Broker in Financials and HCM Applications.\\nMaintaining integrity and internal consistency of the database using DDDAUDIT, SYSAUDIT, ALTERAUDIT reports periodically.\\nExperience on clearing the cache of all servers such as Application Server Domains, Web Server Domains and Process Scheduler servers on a regular basis.\\nMonitor the log files to find out bottleneck of the status of servers\\nMaintaining and troubleshooting various servers like Application Server domains, Process Scheduler Domains and Web Server Domains\\nRegularly involved in doing Database Cloning and Refreshing on PeopleSoft Instances.\\nExperience in Installing COBOL Software and compilation.\\nExperience in Tuning of Application Server Domains, Process Scheduler Domains and Web Server Domains.\\nIn Depth Experience in PeopleSoft Database Performance and Tuning\\nExperience in Data Guard (DR) support\\nExperience in Database patching.\\nExperience in PeopleSoft Database Refreshes using RMAN.\\nGood team player and a proven individual contributor\\n\\n\\nArea of Technical Skills:\\n\\nEducational Qualification:\\nB.SC from Osmania university in 2017.\\n\\nProfessional experience:\\nWorked as PeopleSoft Administrator/ PeopleSoft DBA with Progile infotech Pvt LTD from July 2017 to till date.\\nProject Experience and Achievement’s:\\n\\n\\n\\n\\nClient\\t:\\tHartford Insurance Group, Hartford, CT.\\nProject\\t:\\tInstall, Configure and Production Support of PeopleSoft Applications and Databases.\\nEnvironment\\t:\\tPeople Tools 8.57,8.56,8.55 HRMS9.2, FSCM9.2, Oracle 12c,\\nTuxedo 12cR2, Oracle WebLogic 12cR2, Windows Server 2012 R2, Oracle Enterprise Linux 5,6.\\nRole\\t:\\tPeopleSoft Admin/PeopleSoft DBA\\nDuration\\t:\\tJuly 2017 to till date\\n\\nRoles and Responsibilities:\\n\\nMonitoring the day-to-day working of the system.\\nBuild Verification Test – To check proper installation and running of all PeopleSoft components, processes and reports.\\nObject Migration between different instances involving compare reports, building objects etc.\\nInvolved in Implementation of PeopleSoft Internet Architecture (PIA) including Application Servers, Web Servers and Batch Servers.\\nHandled Security Management tasks like creating new user profiles, roles, permission lists and granting privileges.\\nHandled Application Management tasks like Applying Patches & Fixes.\\nConfigured workstation for PeopleSoft developers on their VM's for accessing PeopleTools like Application designer, Data Mover, Administrating Application Server and Process Scheduler Server using PSAdmin utility\\n\\nMigration of all PeopleSoft projects to DEV, TEST and PROD instances.\\nAnalysis of production issues raised by clients and providing solutions.\\nReport Node configurations.\\nWorked on Project Migrations and Data Migrations.\\nGenerating Compare Reports.\\nDownloading Patches, Tax updates & applied to the environments and maintains the customizations for the PeopleSoft.\\nExperience in applying Patches, Bundles and Tax Updates using Change Assistant and\\nPeopleSoft Update Manager (PUM)\\nInstalling and Configuring Change Assistant to apply Change packages and tax-updates.\\nAppling Patches for Demo, Dev, Test and Production Environments.\\nConfiguring and monitoring Process Scheduler and troubleshooting various issues related.\\n\\nInvolved in the Performance of the databases and application by creating multiple domains across the instances\\nTroubleshooting  of  Application  Server  Domains,  Process Scheduler Domains\\tand\\tWeb Server Domains\\nConfigure Https and secure web server (SSL) administration\\nSetup load Balancer configuration and application server clustering setups / Master Process scheduler set up for high availability systems\\nPerformed data migration using data pump and data mover utilities\\nLoad balancing of Application server & Web server.\\nSetup Application Security using User Profiles, Roles and Permission lists.\\nRefreshing PeopleSoft test environment for synchronisation to production.\\nMaintaining   integrity   and   internal   consistency   of   the   database\\tusing DDDAUDIT, SYSAUDIT, ALTERAUDIT reports periodically.\\nInvolved in 24/7 Production Support to clients.\\nChecked and cleared the application server cache on a regular basis as a maintenance process.\\nInstalled People Books and configured the Web Server to access People Books.\\nConfigured and maintained Report Nodes and Settings.\\nGenerating compare reports between various environments.\\nDocumenting all support issues with their resolutions and feedback.\\n\\n\\n.\""
      ]
     },
     "execution_count": 7,
     "metadata": {},
     "output_type": "execute_result"
    }
   ],
   "source": [
    "df['Text'][7]"
   ]
  },
  {
   "cell_type": "code",
   "execution_count": 8,
   "metadata": {},
   "outputs": [
    {
     "data": {
      "text/plain": [
       "Text     0\n",
       "label    0\n",
       "dtype: int64"
      ]
     },
     "execution_count": 8,
     "metadata": {},
     "output_type": "execute_result"
    }
   ],
   "source": [
    "df.isna().sum()"
   ]
  },
  {
   "cell_type": "markdown",
   "metadata": {},
   "source": [
    "## Visualization of Resumes Categories"
   ]
  },
  {
   "cell_type": "code",
   "execution_count": 9,
   "metadata": {},
   "outputs": [
    {
     "data": {
      "image/png": "[encoded data removed]",
      "text/plain": [
       "<Figure size 640x480 with 1 Axes>"
      ]
     },
     "metadata": {},
     "output_type": "display_data"
    }
   ],
   "source": [
    "sns.set_theme(style=\"darkgrid\",palette=\"coolwarm\")\n",
    "sns.countplot(x = df['label'])\n",
    "plt.show()"
   ]
  },
  {
   "cell_type": "code",
   "execution_count": 10,
   "metadata": {},
   "outputs": [
    {
     "data": {
      "image/png": "[encoded data removed]",
      "text/plain": [
       "<Figure size 800x800 with 1 Axes>"
      ]
     },
     "metadata": {},
     "output_type": "display_data"
    }
   ],
   "source": [
    "label_counts = df['label'].value_counts()\n",
    "plt.figure(figsize=(8, 8))\n",
    "plt.pie(label_counts, labels=label_counts.index, autopct='%1.1f%%', startangle=90)\n",
    "plt.title('Distribution of Labels')\n",
    "plt.show()"
   ]
  },
  {
   "cell_type": "code",
   "execution_count": 11,
   "metadata": {},
   "outputs": [
    {
     "data": {
      "text/plain": [
       "label\n",
       "React Developer    25\n",
       "workday            21\n",
       "Peoplesoft         20\n",
       "SQL Developer      14\n",
       "Name: count, dtype: int64"
      ]
     },
     "execution_count": 11,
     "metadata": {},
     "output_type": "execute_result"
    }
   ],
   "source": [
    "df['label'].value_counts()"
   ]
  },
  {
   "cell_type": "code",
   "execution_count": 12,
   "metadata": {},
   "outputs": [],
   "source": [
    "df['label'] = df['label'].map({'React Developer': 0,'workday': 1 ,'Peoplesoft': 2 , 'SQL Developer': 3})"
   ]
  },
  {
   "cell_type": "code",
   "execution_count": 13,
   "metadata": {},
   "outputs": [
    {
     "data": {
      "text/html": [
       "<div>\n",
       "<style scoped>\n",
       "    .dataframe tbody tr th:only-of-type {\n",
       "        vertical-align: middle;\n",
       "    }\n",
       "\n",
       "    .dataframe tbody tr th {\n",
       "        vertical-align: top;\n",
       "    }\n",
       "\n",
       "    .dataframe thead th {\n",
       "        text-align: right;\n",
       "    }\n",
       "</style>\n",
       "<table border=\"1\" class=\"dataframe\">\n",
       "  <thead>\n",
       "    <tr style=\"text-align: right;\">\n",
       "      <th></th>\n",
       "      <th>Text</th>\n",
       "      <th>label</th>\n",
       "    </tr>\n",
       "  </thead>\n",
       "  <tbody>\n",
       "    <tr>\n",
       "      <th>0</th>\n",
       "      <td>Anubhav Kumar Singh\\t\\t\\n\\n  To work in a gl...</td>\n",
       "      <td>2</td>\n",
       "    </tr>\n",
       "    <tr>\n",
       "      <th>1</th>\n",
       "      <td>Anubhav Kumar Singh\\t\\t\\n\\n  To work in a gl...</td>\n",
       "      <td>2</td>\n",
       "    </tr>\n",
       "    <tr>\n",
       "      <th>2</th>\n",
       "      <td>Anubhav Kumar Singh\\t\\t\\n\\n  To work in a gl...</td>\n",
       "      <td>2</td>\n",
       "    </tr>\n",
       "    <tr>\n",
       "      <th>3</th>\n",
       "      <td>Murali\\n\\nExperience Summary \\n\\nI have 6 year...</td>\n",
       "      <td>2</td>\n",
       "    </tr>\n",
       "    <tr>\n",
       "      <th>4</th>\n",
       "      <td>Murali\\n\\nExperience Summary \\n\\nI have 6 year...</td>\n",
       "      <td>2</td>\n",
       "    </tr>\n",
       "    <tr>\n",
       "      <th>...</th>\n",
       "      <td>...</td>\n",
       "      <td>...</td>\n",
       "    </tr>\n",
       "    <tr>\n",
       "      <th>75</th>\n",
       "      <td>Ramesh A\\t\\t\\t\\t\\t\\t\\t\\t\\t\\t\\t\\t\\t\\t\\t\\t\\t\\t\\t...</td>\n",
       "      <td>1</td>\n",
       "    </tr>\n",
       "    <tr>\n",
       "      <th>76</th>\n",
       "      <td>Seeking suitable positions in Workday HCM  as ...</td>\n",
       "      <td>1</td>\n",
       "    </tr>\n",
       "    <tr>\n",
       "      <th>77</th>\n",
       "      <td>\\nWORKDAY | HCM | FCM\\nName \\t\\t: Kumar S.S\\nR...</td>\n",
       "      <td>1</td>\n",
       "    </tr>\n",
       "    <tr>\n",
       "      <th>78</th>\n",
       "      <td>\\nWORKDAY | HCM | FCM\\nName \\t\\t: Kumar S.S\\nR...</td>\n",
       "      <td>1</td>\n",
       "    </tr>\n",
       "    <tr>\n",
       "      <th>79</th>\n",
       "      <td>...</td>\n",
       "      <td>1</td>\n",
       "    </tr>\n",
       "  </tbody>\n",
       "</table>\n",
       "<p>80 rows × 2 columns</p>\n",
       "</div>"
      ],
      "text/plain": [
       "                                                 Text  label\n",
       "0     Anubhav Kumar Singh\\t\\t\\n\\n  To work in a gl...      2\n",
       "1     Anubhav Kumar Singh\\t\\t\\n\\n  To work in a gl...      2\n",
       "2     Anubhav Kumar Singh\\t\\t\\n\\n  To work in a gl...      2\n",
       "3   Murali\\n\\nExperience Summary \\n\\nI have 6 year...      2\n",
       "4   Murali\\n\\nExperience Summary \\n\\nI have 6 year...      2\n",
       "..                                                ...    ...\n",
       "75  Ramesh A\\t\\t\\t\\t\\t\\t\\t\\t\\t\\t\\t\\t\\t\\t\\t\\t\\t\\t\\t...      1\n",
       "76  Seeking suitable positions in Workday HCM  as ...      1\n",
       "77  \\nWORKDAY | HCM | FCM\\nName \\t\\t: Kumar S.S\\nR...      1\n",
       "78  \\nWORKDAY | HCM | FCM\\nName \\t\\t: Kumar S.S\\nR...      1\n",
       "79                                                ...      1\n",
       "\n",
       "[80 rows x 2 columns]"
      ]
     },
     "execution_count": 13,
     "metadata": {},
     "output_type": "execute_result"
    }
   ],
   "source": [
    "df"
   ]
  },
  {
   "cell_type": "code",
   "execution_count": 14,
   "metadata": {},
   "outputs": [
    {
     "data": {
      "text/plain": [
       "'Murali\\n\\nExperience Summary \\n\\nI have 6 years of experience working in PeopleSoft Administration and performing various infrastructure related activities in PeopleSoft environments. \\n\\nInstalled and configured PeopleSoft 9.0,9.1,9.2 Web server, Application server, Database server and Process scheduler \\nserver on Windows, UNIX and Linux platforms.\\nCreating Domains for Web server, Application server and Process scheduler server.\\nApplied Patches Manually and applied Maintenance Packs through Change Assistant tool.\\nExperience in DPKs installations.\\nApplying TAX UPDATES and fixes using PUM\\nMigrating projects from one environment to another environment using Application Designer and also through CAPI, STAT tools.\\nPerformed Single sign on (SSO)Implementation.\\nExperience in running Compare Reports between pre and Post Migrations.\\nExperience in setting up Client Workstation for Developers and Testers.\\nInvolved in Configuration of Integration Broker setting up Between the Modules for sending the Messages.\\nInvolved 24/7 production Support to Client.\\nInvolved in Running Audit Reports (DDDAUDIT AND SYSAUDIT) for Integrity Checks.\\nExperience in Configuration and Setup the REN server.\\nConfigured and Maintained Report Nodes settings.\\nChecked and Clear Cache for the servers.\\nInvolved in Troubleshooting of the servers like Application server, web server and Process scheduler server. \\nWorked on Peopletools Upgrade PT8.52 to PT8.55 and 8.55 to 8.57.\\nInstalling and configuring Elastic Search 6.1.2\\n\\nCareer Profile:\\n\\nClient :Sembcorp , Brazil\\n\\nDescription:\\nThis project involved active production support in the fields of HRMS 9.2. Additionally also involved in maintenance and enhancement of the system.\\n\\nResponsibility:\\n\\n\\n Installation and setup of People Soft HCM & ELM 9.2 on Oracle.\\n Creating database user, assigning roles & privileges to the users.\\n Maintaining various People Soft instances.\\n Debugging and resolving issues related to application server\\\\web server\\\\process    scheduler.\\n Weekly\\\\monthly database maintains.\\nPerformed People tools upgrade from 8.55.14 to 8.57.05.\\nPerforming Post refresh Activities.\\n\\n\\n\\nClient :Wipro, IND\\nPlatforms : People Tools 8.56, People Soft HCM 9.2.\\n\\nDescription:\\nThis project involved active production support in the fields of HRMS 9.2. Additionally also involved in maintenance and enhancement of the system.\\n\\nResponsibility:\\n Installation and setup of People Soft HCM 9.2 on Oracle.\\n Creating database user, assigning roles & privileges to the users.\\n Maintaining various People Soft instances.\\n Debugging and resolving issues related to application server\\\\web server\\\\process    scheduler.\\n Weekly\\\\monthly database maintains.\\n Creating and modifying data mover scripts.\\n Migrating projects using CAPI.\\n Applying Patches.\\n Setting up a PeopleSoft Reporting environment for reporting.\\n Interacting with the client for various Production related issues.\\nApplying TAX UPDATES using PUM.\\nPerforming Post refresh Activities.\\n\\n\\n\\n\\n Project Title :People Soft HCM Production Support and Enhancement\\nClient : ASG, USA\\nPlatforms : People Tools 8.52,8.54 People Soft HCM 9.0,9.2 DB2\\nAIX 5.1.\\n\\nDescription:\\nThis project involved active production support in the fields of HRMS 9.0. Additionally also involved in maintenance and enhancement of the system.\\n\\nResponsibility:\\n\\n Installation and setup of People Soft HCM 9.0,9.1 on DB2.\\n Creating database user, assigning roles & privileges to the users.\\n Maintaining various People Soft instances.\\n Debugging and resolving issues related to application server\\\\web server\\\\process    scheduler.\\n Weekly\\\\monthly database maintains.\\n Creating and modifying data mover scripts.\\nMigrating projects using STAT,CAPI.\\n Applying Patches.\\n Setting up a PeopleSoft Reporting environment for reporting.\\n Interacting with the client for various Production related issues.\\nApplying TAX UPDATES using PUM.\\nPerforming Post refresh Activities.\\n\\n\\n\\n\\n\\nTechnology\\n\\n\\n\\n\\n\\n\\n\\nPersonal Details\\n\\n\\n\\n\\n\\n\\n\\nDate:\\n\\nPlace:  Hyderabad'"
      ]
     },
     "execution_count": 14,
     "metadata": {},
     "output_type": "execute_result"
    }
   ],
   "source": [
    "df['Text'][3]"
   ]
  },
  {
   "cell_type": "code",
   "execution_count": 15,
   "metadata": {},
   "outputs": [
    {
     "data": {
      "text/plain": [
       "'Ramesh A\\t\\t\\t\\t\\t\\t\\t\\t\\t\\t\\t\\t\\t\\t\\t\\t\\t\\t\\t\\n(Workday HCM Consultant)\\n\\n\\nPROFESSIONAL SUMMARY:\\nAn ERP Consultant with overall\\xa05+ years\\xa0of professional IT experience with\\xa03+ years\\xa0of extensive\\xa0Workday experience.\\nExceptional experience in Workday’s\\xa0Core HR, Staffing and Compensation Functional areas.\\nHands on experience in Configuring Organizations, Business process and creation of Custom Reports.\\nExperienced on Compensation elements configurations and updates.\\nInvolved in requirements analysis, integrations, testing and system documentation support.\\nCreation of various\\xa0calculated fields\\xa0to use in custom reports.\\nConfiguring\\xa0EIB Inbound and Load data into workday with webservices.\\nCreation of various custom reports as per the requirements.\\nWorking on various enhancements related to EIB Integrations, Custom Reports and Configuration changes.\\nExperience with creating\\xa0Staffing models for Supervisory Orgs, Reorganizations and business process framework, Organization Types, Organization Hierarchies.\\nGood experienced in developing technical solutions for the Workday platform using\\xa0EIB and Web Services.\\nWorkday training includes Fundamentals, Simple Inbound Integrations, Business Processes, Calculated Fields, Report Writer, and Security Fundamentals.\\nExperience in writing SQL queries and have exposure to different databases, includes SQL Server.\\nPossess Good communication skills, keen to adapt to new technologies and effective Team Player. \\n\\nTECHNICAL SKILLS:\\n\\n\\nEDUCATION:\\nBachelor of Technology: Mechanical Engineering from Jawaharlal Nehru Technological University – Kakinada.\\nPROFESSIONAL EXPERIENCE:\\nTata Consultancy Services  \\t\\t\\t \\nProject: Support/Enhancement of Workday HCM\\t                               \\t\\t\\t      (May’ 19 – Till date) \\nAIMS Community College, USA\\nWorkday HCM Functional Consultant\\n\\nRoles and Responsibilities:\\nResponsible to work on workday application incidents raised by business end users.\\nTroubleshoot the issue to find the root cause of the incident and provide them a solution.\\nWritten custom validations on business process object as per business requirement.\\nModified Business process as add/remove steps from the existing configurations.\\nChanged the security groups on business process security policy functional areas.\\nModified step condition rules for existing business processes.\\nDeveloped custom Integrations to update Compensation Eligibility rules, Grade and Grade profiles.\\nDeveloped Inbound integrations to load job profile and matrix organization per business requirement.\\nClarify the end user queries and guide new users about workday system functionality.\\nCommunicate end users for better understand of the case and update the status of incident.\\nResponsible to Loaded new set of setup data through EIB.\\nCreate and modify condition rules as per new business policy changes.\\nConfigured new work schedules as requested by the business operations user.\\n\\n\\nProject: Support of Workday HCM                       \\t\\t\\t\\t\\t(Nov’17 – May’ 19)\\nSafeway, Phoenix, AZ       \\t\\t\\t\\t\\t\\t\\nWorkday Reports Developer.\\n\\nRoles and Responsibilities:\\nWorked on Reports to create custom reports using\\xa0Workday\\xa0Report Writer to meet the business needs of HR application report consumer groups.\\xa0\\nGenerate different kinds of\\xa0reports\\xa0- Simple, Advanced and Matrix\\xa0reports\\xa0to meet client requirements within the\\xa0workday\\xa0tenant. \\nCreate calculated fields for Custom\\xa0Reports\\xa0to ensure required report delivery.\\xa0\\nDeveloped advanced custom reports, composite reports and matrix reports in Workday and test developed reports.\\nDesignedand built both inbound and outbound EIB integrations in various segments of Workday system.\\nCreated Organizations (Locations, Supervisory Orgs, Business Units, Cost Centers, Custom orgs, Organization Hierarchy (Location Hierarchy).\\nCreate reports by using appropriate data source and business objects to deliver output for end users.\\nCreated report on Employee Convert to Contract to full time Employee List.\\nCreated report on Contingent workers, converting the contingent workers into employees.\\nExtensively worked on Workday application in creating\\xa0reports, calculated fields, basic integrations using EIB, data conversion and Migrations.\\nDeveloped custom reports for the hcm modules like Core HR.\\nUsed Report Writer to create new Custom reports with appropriate Data Sources, Objects and Fields\\nSupported Customer resources in development and troubleshooting of reports and integrations.\\n\\n\\nProject: Support of PeopleSoft HCM\\t\\t\\t\\t\\t\\t\\t(April’16 – Oct’17)\\nAmdocs\\nPeopleSoft Developer\\n\\nResponsibilities:\\nAnalyzed the requirement documents to understand the customer business requirement.\\nCustomized system applications and designed many applications as scratch.\\nWork with incident request raised at user end.\\nInteract with onsite team to know status of project on daily basis.\\nResponsible to work on support issues.\\nConsulting with the Solution Architect on business prospective implementation workflow.\\nCollaborating with overseas team-mates on daily/weekly discussions.\\nAnalyzing the issues and providing resolutions reported by users\\nWorking on Incidents, Service Request and EWO’s (Enhancement Work Orders).\\nDeveloped custom advanced custom reports, calculated fields, complex xslt logic \\nCoordinate with other team members for defect deliveries and production support activities.\\nConduct knowledge sharing sessions to newly joined team members.\\n\\n'"
      ]
     },
     "execution_count": 15,
     "metadata": {},
     "output_type": "execute_result"
    }
   ],
   "source": [
    "df['Text'][75]"
   ]
  },
  {
   "cell_type": "markdown",
   "metadata": {},
   "source": [
    "## Data Preprocessing"
   ]
  },
  {
   "cell_type": "code",
   "execution_count": 16,
   "metadata": {},
   "outputs": [
    {
     "name": "stderr",
     "output_type": "stream",
     "text": [
      "[nltk_data] Downloading package stopwords to\n",
      "[nltk_data]     C:\\Users\\VICTUS\\AppData\\Roaming\\nltk_data...\n",
      "[nltk_data]   Package stopwords is already up-to-date!\n",
      "[nltk_data] Downloading package wordnet to\n",
      "[nltk_data]     C:\\Users\\VICTUS\\AppData\\Roaming\\nltk_data...\n",
      "[nltk_data]   Package wordnet is already up-to-date!\n",
      "[nltk_data] Downloading package punkt to\n",
      "[nltk_data]     C:\\Users\\VICTUS\\AppData\\Roaming\\nltk_data...\n",
      "[nltk_data]   Package punkt is already up-to-date!\n",
      "[nltk_data] Downloading package punkt_tab to\n",
      "[nltk_data]     C:\\Users\\VICTUS\\AppData\\Roaming\\nltk_data...\n",
      "[nltk_data]   Package punkt_tab is already up-to-date!\n"
     ]
    },
    {
     "data": {
      "text/plain": [
       "True"
      ]
     },
     "execution_count": 16,
     "metadata": {},
     "output_type": "execute_result"
    }
   ],
   "source": [
    "import re\n",
    "import nltk\n",
    "nltk.download('stopwords')\n",
    "nltk.download('wordnet')\n",
    "nltk.download('punkt')\n",
    "nltk.download('punkt_tab')"
   ]
  },
  {
   "cell_type": "code",
   "execution_count": 17,
   "metadata": {},
   "outputs": [],
   "source": [
    "from nltk.corpus import stopwords\n",
    "from nltk.stem import WordNetLemmatizer\n",
    "from nltk.tokenize import word_tokenize"
   ]
  },
  {
   "cell_type": "code",
   "execution_count": 18,
   "metadata": {},
   "outputs": [],
   "source": [
    "Lemmatizer = WordNetLemmatizer()"
   ]
  },
  {
   "cell_type": "code",
   "execution_count": 19,
   "metadata": {},
   "outputs": [],
   "source": [
    "def preprocess_data(text):\n",
    "    cleantext = re.sub(r'http\\S+|www\\.\\S+', '',text)\n",
    "    cleantext = re.sub(r'@\\S+','',cleantext)\n",
    "    cleantext = re.sub(r'#\\S+','',cleantext)\n",
    "    cleantext = re.sub(r'[^\\w\\s]','',cleantext)\n",
    "    cleantext = cleantext.lower()\n",
    "    words = word_tokenize(cleantext)\n",
    "    words = [Lemmatizer.lemmatize(word,pos='v') for word in words if not word in stopwords.words('english')]\n",
    "    cleantext = ' '.join(words)\n",
    "    return cleantext"
   ]
  },
  {
   "cell_type": "code",
   "execution_count": 20,
   "metadata": {},
   "outputs": [],
   "source": [
    "def preprocess_data2(text):\n",
    "  cleantext = re.sub('[^a-zA-Z]',' ',text)\n",
    "  return cleantext"
   ]
  },
  {
   "cell_type": "code",
   "execution_count": 21,
   "metadata": {},
   "outputs": [],
   "source": [
    "df['Text'] = df['Text'].apply(preprocess_data)"
   ]
  },
  {
   "cell_type": "code",
   "execution_count": 22,
   "metadata": {},
   "outputs": [],
   "source": [
    "df['Text'] = df['Text'].apply(preprocess_data2)"
   ]
  },
  {
   "cell_type": "markdown",
   "metadata": {},
   "source": [
    "## Vectorization"
   ]
  },
  {
   "cell_type": "code",
   "execution_count": 23,
   "metadata": {},
   "outputs": [],
   "source": [
    "import gensim"
   ]
  },
  {
   "cell_type": "code",
   "execution_count": 24,
   "metadata": {},
   "outputs": [],
   "source": [
    "from gensim.models import Word2Vec, KeyedVectors\n",
    "from nltk import sent_tokenize\n",
    "from gensim.utils import simple_preprocess"
   ]
  },
  {
   "cell_type": "code",
   "execution_count": 25,
   "metadata": {},
   "outputs": [],
   "source": [
    "words = []\n",
    "for sent in df['Text']:\n",
    "    sent_token = sent_tokenize(sent)\n",
    "    for sent in sent_token:\n",
    "        words.append(simple_preprocess(sent))"
   ]
  },
  {
   "cell_type": "code",
   "execution_count": 26,
   "metadata": {},
   "outputs": [],
   "source": [
    "model = gensim.models.Word2Vec(words)"
   ]
  },
  {
   "cell_type": "code",
   "execution_count": 27,
   "metadata": {},
   "outputs": [
    {
     "data": {
      "text/plain": [
       "<gensim.models.word2vec.Word2Vec at 0x228067054c0>"
      ]
     },
     "execution_count": 27,
     "metadata": {},
     "output_type": "execute_result"
    }
   ],
   "source": [
    "model"
   ]
  },
  {
   "cell_type": "code",
   "execution_count": 28,
   "metadata": {},
   "outputs": [
    {
     "data": {
      "text/plain": [
       "5"
      ]
     },
     "execution_count": 28,
     "metadata": {},
     "output_type": "execute_result"
    }
   ],
   "source": [
    "model.epochs"
   ]
  },
  {
   "cell_type": "code",
   "execution_count": 29,
   "metadata": {},
   "outputs": [
    {
     "data": {
      "text/plain": [
       "1003"
      ]
     },
     "execution_count": 29,
     "metadata": {},
     "output_type": "execute_result"
    }
   ],
   "source": [
    "len(model.wv.index_to_key)"
   ]
  },
  {
   "cell_type": "code",
   "execution_count": 30,
   "metadata": {},
   "outputs": [
    {
     "data": {
      "text/plain": [
       "array([ 0.21139471,  0.1924552 , -0.10353765,  0.21991292,  0.04807653,\n",
       "       -0.41041595,  0.40735048,  0.45175895, -0.34214205, -0.0275453 ,\n",
       "       -0.2919126 , -0.09570135, -0.22529379,  0.07723788,  0.07466012,\n",
       "       -0.25432396, -0.3285822 , -0.14234768, -0.04464968, -0.31616017,\n",
       "        0.3755757 ,  0.23069048,  0.31111446,  0.10073706, -0.08149893,\n",
       "       -0.23164083, -0.01562916, -0.07955538, -0.01403448, -0.18812084,\n",
       "        0.30918035, -0.04119814,  0.2549664 , -0.21510497,  0.13470402,\n",
       "        0.61526924,  0.2599687 ,  0.02774662, -0.2563525 , -0.5021528 ,\n",
       "       -0.15974799, -0.29117745, -0.18090145,  0.12105704,  0.23222531,\n",
       "       -0.07684138, -0.2305491 ,  0.2389039 ,  0.40637186,  0.2533168 ,\n",
       "        0.22303812, -0.4851038 ,  0.09618975, -0.25357997, -0.3114103 ,\n",
       "        0.07200546, -0.13746168, -0.5868758 , -0.52730346,  0.01084921,\n",
       "        0.1676061 ,  0.02207848, -0.07897069, -0.19693722, -0.35672104,\n",
       "        0.22176205,  0.041003  ,  0.5667628 , -0.8259523 ,  0.34990883,\n",
       "       -0.23819801,  0.23346242,  0.34638575, -0.08674781,  0.11199845,\n",
       "        0.3419938 , -0.3824009 , -0.05487052, -0.43422547,  0.20251478,\n",
       "       -0.08156987, -0.18028314, -0.50126636,  0.16739899,  0.1608211 ,\n",
       "       -0.13592696,  0.14507416,  0.40615457,  0.4092007 ,  0.3460746 ,\n",
       "        0.49795446,  0.44763672, -0.15984823, -0.13618085,  0.42274654,\n",
       "       -0.01210016, -0.11565744, -0.14592028,  0.20432322, -0.3330254 ],\n",
       "      dtype=float32)"
      ]
     },
     "execution_count": 30,
     "metadata": {},
     "output_type": "execute_result"
    }
   ],
   "source": [
    "model.wv['workday']"
   ]
  },
  {
   "cell_type": "code",
   "execution_count": 31,
   "metadata": {},
   "outputs": [],
   "source": [
    "def avg_word_2_vec(doc): \n",
    "  return np.mean([model.wv[word] for word in doc.split() if word in model.wv.index_to_key],axis=0)"
   ]
  },
  {
   "cell_type": "code",
   "execution_count": 32,
   "metadata": {},
   "outputs": [],
   "source": [
    "from sklearn.model_selection import train_test_split"
   ]
  },
  {
   "cell_type": "code",
   "execution_count": 33,
   "metadata": {},
   "outputs": [],
   "source": [
    "Train_df,Test_df = train_test_split(df,test_size=0.2,random_state=42)"
   ]
  },
  {
   "cell_type": "code",
   "execution_count": 34,
   "metadata": {},
   "outputs": [],
   "source": [
    "x_Train,y_Train = Train_df['Text'],Train_df['label']\n",
    "x_Test,y_Test = Test_df['Text'],Test_df['label']"
   ]
  },
  {
   "cell_type": "code",
   "execution_count": 35,
   "metadata": {},
   "outputs": [],
   "source": [
    "x_Train_Final = []\n",
    "for sent in x_Train:\n",
    "  x_Train_Final.append(avg_word_2_vec(sent))"
   ]
  },
  {
   "cell_type": "code",
   "execution_count": 36,
   "metadata": {},
   "outputs": [],
   "source": [
    "x_Test_Final = []\n",
    "for sent in x_Test:\n",
    "  x_Test_Final.append(avg_word_2_vec(sent))"
   ]
  },
  {
   "cell_type": "markdown",
   "metadata": {},
   "source": [
    "## Model Building with Machine Learning Algorithms"
   ]
  },
  {
   "cell_type": "code",
   "execution_count": 44,
   "metadata": {},
   "outputs": [],
   "source": [
    "from sklearn.linear_model import LogisticRegression\n",
    "from sklearn.svm import SVC\n",
    "from sklearn.tree import DecisionTreeClassifier\n",
    "from sklearn.neighbors import KNeighborsClassifier\n",
    "from sklearn.ensemble import RandomForestClassifier\n",
    "from xgboost import XGBClassifier\n",
    "from sklearn.metrics import accuracy_score,confusion_matrix,precision_score,recall_score,f1_score\n",
    "import warnings\n",
    "warnings.filterwarnings('ignore')\n",
    "sns.set_theme(style='darkgrid',palette='viridis')"
   ]
  },
  {
   "cell_type": "code",
   "execution_count": 45,
   "metadata": {},
   "outputs": [],
   "source": [
    "models = {\n",
    "    'Random Forest': RandomForestClassifier(),\n",
    "    'Logistic Regression': LogisticRegression(multi_class='ovr'),\n",
    "    'Decision Tree Classifier': DecisionTreeClassifier(),\n",
    "    'SVM':SVC(decision_function_shape='ovo'),\n",
    "    'KNN':KNeighborsClassifier(),\n",
    "    'XGBoost':XGBClassifier()\n",
    "}"
   ]
  },
  {
   "cell_type": "code",
   "execution_count": 46,
   "metadata": {},
   "outputs": [],
   "source": [
    "metrics = {\n",
    "    'Model': [],\n",
    "    'Train Accuracy': [],\n",
    "    'Test Accuracy': [],\n",
    "    'Train Precision': [],\n",
    "    'Test Precision': [],\n",
    "    'Train Recall': [],\n",
    "    'Test Recall': [],\n",
    "    'Train F1-Score': [],\n",
    "    'Test F1-Score': []\n",
    "}"
   ]
  },
  {
   "cell_type": "code",
   "execution_count": 47,
   "metadata": {},
   "outputs": [],
   "source": [
    "for model_name, model in models.items():\n",
    "    model.fit(x_Train_Final,y_Train)\n",
    "    y_train_pred = model.predict(x_Train_Final)\n",
    "    y_test_pred = model.predict(x_Test_Final)\n",
    "\n",
    "    metrics['Model'].append(model_name)\n",
    "    metrics['Train Accuracy'].append(accuracy_score(y_Train, y_train_pred))\n",
    "    metrics['Test Accuracy'].append(accuracy_score(y_Test, y_test_pred))\n",
    "    metrics['Train Precision'].append(precision_score(y_Train, y_train_pred,average='weighted'))\n",
    "    metrics['Test Precision'].append(precision_score(y_Test, y_test_pred,average='weighted'))\n",
    "    metrics['Train Recall'].append(recall_score(y_Train, y_train_pred,average='weighted'))\n",
    "    metrics['Test Recall'].append(recall_score(y_Test, y_test_pred,average='weighted'))\n",
    "    metrics['Train F1-Score'].append(f1_score(y_Train, y_train_pred,average='weighted'))\n",
    "    metrics['Test F1-Score'].append(f1_score(y_Test, y_test_pred,average='weighted'))"
   ]
  },
  {
   "cell_type": "code",
   "execution_count": 48,
   "metadata": {},
   "outputs": [
    {
     "data": {
      "text/html": [
       "<div>\n",
       "<style scoped>\n",
       "    .dataframe tbody tr th:only-of-type {\n",
       "        vertical-align: middle;\n",
       "    }\n",
       "\n",
       "    .dataframe tbody tr th {\n",
       "        vertical-align: top;\n",
       "    }\n",
       "\n",
       "    .dataframe thead th {\n",
       "        text-align: right;\n",
       "    }\n",
       "</style>\n",
       "<table border=\"1\" class=\"dataframe\">\n",
       "  <thead>\n",
       "    <tr style=\"text-align: right;\">\n",
       "      <th></th>\n",
       "      <th>Model</th>\n",
       "      <th>Train Accuracy</th>\n",
       "      <th>Test Accuracy</th>\n",
       "      <th>Train Precision</th>\n",
       "      <th>Test Precision</th>\n",
       "      <th>Train Recall</th>\n",
       "      <th>Test Recall</th>\n",
       "      <th>Train F1-Score</th>\n",
       "      <th>Test F1-Score</th>\n",
       "    </tr>\n",
       "  </thead>\n",
       "  <tbody>\n",
       "    <tr>\n",
       "      <th>0</th>\n",
       "      <td>Random Forest</td>\n",
       "      <td>1.000000</td>\n",
       "      <td>0.9375</td>\n",
       "      <td>1.000000</td>\n",
       "      <td>0.946429</td>\n",
       "      <td>1.000000</td>\n",
       "      <td>0.9375</td>\n",
       "      <td>1.000000</td>\n",
       "      <td>0.936432</td>\n",
       "    </tr>\n",
       "    <tr>\n",
       "      <th>1</th>\n",
       "      <td>Logistic Regression</td>\n",
       "      <td>0.562500</td>\n",
       "      <td>0.4375</td>\n",
       "      <td>0.560268</td>\n",
       "      <td>0.526786</td>\n",
       "      <td>0.562500</td>\n",
       "      <td>0.4375</td>\n",
       "      <td>0.500200</td>\n",
       "      <td>0.426648</td>\n",
       "    </tr>\n",
       "    <tr>\n",
       "      <th>2</th>\n",
       "      <td>Decision Tree Classifier</td>\n",
       "      <td>1.000000</td>\n",
       "      <td>0.9375</td>\n",
       "      <td>1.000000</td>\n",
       "      <td>0.946429</td>\n",
       "      <td>1.000000</td>\n",
       "      <td>0.9375</td>\n",
       "      <td>1.000000</td>\n",
       "      <td>0.936432</td>\n",
       "    </tr>\n",
       "    <tr>\n",
       "      <th>3</th>\n",
       "      <td>SVM</td>\n",
       "      <td>0.296875</td>\n",
       "      <td>0.3750</td>\n",
       "      <td>0.088135</td>\n",
       "      <td>0.140625</td>\n",
       "      <td>0.296875</td>\n",
       "      <td>0.3750</td>\n",
       "      <td>0.135919</td>\n",
       "      <td>0.204545</td>\n",
       "    </tr>\n",
       "    <tr>\n",
       "      <th>4</th>\n",
       "      <td>KNN</td>\n",
       "      <td>0.906250</td>\n",
       "      <td>0.9375</td>\n",
       "      <td>0.906757</td>\n",
       "      <td>0.946429</td>\n",
       "      <td>0.906250</td>\n",
       "      <td>0.9375</td>\n",
       "      <td>0.905306</td>\n",
       "      <td>0.936432</td>\n",
       "    </tr>\n",
       "    <tr>\n",
       "      <th>5</th>\n",
       "      <td>XGBoost</td>\n",
       "      <td>1.000000</td>\n",
       "      <td>0.9375</td>\n",
       "      <td>1.000000</td>\n",
       "      <td>0.946429</td>\n",
       "      <td>1.000000</td>\n",
       "      <td>0.9375</td>\n",
       "      <td>1.000000</td>\n",
       "      <td>0.936432</td>\n",
       "    </tr>\n",
       "  </tbody>\n",
       "</table>\n",
       "</div>"
      ],
      "text/plain": [
       "                      Model  Train Accuracy  Test Accuracy  Train Precision  \\\n",
       "0             Random Forest        1.000000         0.9375         1.000000   \n",
       "1       Logistic Regression        0.562500         0.4375         0.560268   \n",
       "2  Decision Tree Classifier        1.000000         0.9375         1.000000   \n",
       "3                       SVM        0.296875         0.3750         0.088135   \n",
       "4                       KNN        0.906250         0.9375         0.906757   \n",
       "5                   XGBoost        1.000000         0.9375         1.000000   \n",
       "\n",
       "   Test Precision  Train Recall  Test Recall  Train F1-Score  Test F1-Score  \n",
       "0        0.946429      1.000000       0.9375        1.000000       0.936432  \n",
       "1        0.526786      0.562500       0.4375        0.500200       0.426648  \n",
       "2        0.946429      1.000000       0.9375        1.000000       0.936432  \n",
       "3        0.140625      0.296875       0.3750        0.135919       0.204545  \n",
       "4        0.946429      0.906250       0.9375        0.905306       0.936432  \n",
       "5        0.946429      1.000000       0.9375        1.000000       0.936432  "
      ]
     },
     "execution_count": 48,
     "metadata": {},
     "output_type": "execute_result"
    }
   ],
   "source": [
    "metrics_df = pd.DataFrame(metrics)\n",
    "metrics_df"
   ]
  },
  {
   "cell_type": "markdown",
   "metadata": {},
   "source": [
    "## Visualization "
   ]
  },
  {
   "cell_type": "markdown",
   "metadata": {},
   "source": [
    "Comparison of Accuracy"
   ]
  },
  {
   "cell_type": "code",
   "execution_count": 49,
   "metadata": {},
   "outputs": [],
   "source": [
    "def plot_metric(metric_train, metric_test, metric_name):\n",
    "    x = np.arange(len(models))\n",
    "    fig, ax = plt.subplots(figsize=(10, 6))\n",
    "    ax.bar(x, metrics_df[metric_train], width=0.2, label='Train',align='center')\n",
    "    ax.bar(x, metrics_df[metric_test], width=0.2, label='Test',align='edge')\n",
    "    ax.set_ylabel(metric_name)\n",
    "    ax.set_title('Comparison Of Accuracies By Model')\n",
    "    ax.set_xticks(x)\n",
    "    ax.set_xticklabels(metrics_df['Model'])\n",
    "    ax.legend(loc='upper center')\n",
    "    plt.tight_layout()\n",
    "    plt.show()"
   ]
  },
  {
   "cell_type": "code",
   "execution_count": 50,
   "metadata": {},
   "outputs": [
    {
     "data": {
      "image/png": "[encoded data removed]",
      "text/plain": [
       "<Figure size 1000x600 with 1 Axes>"
      ]
     },
     "metadata": {},
     "output_type": "display_data"
    }
   ],
   "source": [
    "plot_metric(\"Train Accuracy\", \"Test Accuracy\", \"Accuracy\")"
   ]
  },
  {
   "cell_type": "markdown",
   "metadata": {},
   "source": [
    "## Comparison of Precision"
   ]
  },
  {
   "cell_type": "code",
   "execution_count": 51,
   "metadata": {},
   "outputs": [],
   "source": [
    "def plot_metric(metric_train, metric_test, metric_name):\n",
    "    x = np.arange(len(models))\n",
    "    fig, ax = plt.subplots(figsize=(10, 6))\n",
    "    ax.bar(x, metrics_df[metric_train], width=0.2, label='Train',align='center')\n",
    "    ax.bar(x, metrics_df[metric_test], width=0.2, label='Test',align='edge')\n",
    "    ax.set_ylabel(metric_name)\n",
    "    ax.set_title('Comparison Of Precision By Model')\n",
    "    ax.set_xticks(x)\n",
    "    ax.set_xticklabels(metrics_df['Model'])\n",
    "    ax.legend(loc='upper center')\n",
    "    plt.tight_layout()\n",
    "    plt.show()"
   ]
  },
  {
   "cell_type": "code",
   "execution_count": 52,
   "metadata": {},
   "outputs": [
    {
     "data": {
      "image/png": "[encoded data removed]",
      "text/plain": [
       "<Figure size 1000x600 with 1 Axes>"
      ]
     },
     "metadata": {},
     "output_type": "display_data"
    }
   ],
   "source": [
    "plot_metric(\"Train Precision\", \"Test Precision\", \"Precision\")"
   ]
  },
  {
   "cell_type": "markdown",
   "metadata": {},
   "source": [
    "## Comparison of Recall"
   ]
  },
  {
   "cell_type": "code",
   "execution_count": 53,
   "metadata": {},
   "outputs": [],
   "source": [
    "def plot_metric(metric_train, metric_test, metric_name):\n",
    "    x = np.arange(len(models))\n",
    "    fig, ax = plt.subplots(figsize=(10, 6))\n",
    "    ax.bar(x, metrics_df[metric_train], width=0.2, label='Train',align='center')\n",
    "    ax.bar(x, metrics_df[metric_test], width=0.2, label='Test',align='edge')\n",
    "    ax.set_ylabel(metric_name)\n",
    "    ax.set_title('Comparison Of Recall By Model')\n",
    "    ax.set_xticks(x)\n",
    "    ax.set_xticklabels(metrics_df['Model'])\n",
    "    ax.legend(loc='upper center')\n",
    "    plt.tight_layout()\n",
    "    plt.show()"
   ]
  },
  {
   "cell_type": "code",
   "execution_count": 54,
   "metadata": {},
   "outputs": [
    {
     "data": {
      "image/png": "[encoded data removed]",
      "text/plain": [
       "<Figure size 1000x600 with 1 Axes>"
      ]
     },
     "metadata": {},
     "output_type": "display_data"
    }
   ],
   "source": [
    "plot_metric(\"Train Recall\", \"Test Recall\", \"Recall\")"
   ]
  },
  {
   "cell_type": "markdown",
   "metadata": {},
   "source": [
    "## Comparison of F1-Score"
   ]
  },
  {
   "cell_type": "code",
   "execution_count": 55,
   "metadata": {},
   "outputs": [],
   "source": [
    "def plot_metric(metric_train, metric_test, metric_name):\n",
    "    x = np.arange(len(models))\n",
    "    fig, ax = plt.subplots(figsize=(10, 6))\n",
    "    ax.bar(x, metrics_df[metric_train], width=0.2, label='Train',align='center')\n",
    "    ax.bar(x, metrics_df[metric_test], width=0.2, label='Test',align='edge')\n",
    "    ax.set_ylabel(metric_name)\n",
    "    ax.set_title('Comparison Of F1-Score By Model')\n",
    "    ax.set_xticks(x)\n",
    "    ax.set_xticklabels(metrics_df['Model'])\n",
    "    ax.legend(loc='upper center')\n",
    "    plt.tight_layout()\n",
    "    plt.show()"
   ]
  },
  {
   "cell_type": "code",
   "execution_count": 56,
   "metadata": {},
   "outputs": [
    {
     "data": {
      "image/png": "[encoded data removed]",
      "text/plain": [
       "<Figure size 1000x600 with 1 Axes>"
      ]
     },
     "metadata": {},
     "output_type": "display_data"
    }
   ],
   "source": [
    "plot_metric(\"Train F1-Score\", \"Test F1-Score\", \"F1-Score\")"
   ]
  },
  {
   "cell_type": "markdown",
   "metadata": {},
   "source": [
    "## Model Building with Deep Learning"
   ]
  },
  {
   "cell_type": "code",
   "execution_count": 57,
   "metadata": {},
   "outputs": [],
   "source": [
    "import tensorflow as tf\n",
    "from tensorflow.keras.preprocessing.text import Tokenizer\n",
    "from tensorflow.keras.preprocessing.sequence import pad_sequences\n",
    "from sklearn.model_selection import train_test_split"
   ]
  },
  {
   "cell_type": "code",
   "execution_count": 58,
   "metadata": {},
   "outputs": [],
   "source": [
    "DL_df = dataset('Resume_Custom_Data')"
   ]
  },
  {
   "cell_type": "code",
   "execution_count": 59,
   "metadata": {},
   "outputs": [],
   "source": [
    "DL_df = DL_df.sample(frac=1)"
   ]
  },
  {
   "cell_type": "code",
   "execution_count": 60,
   "metadata": {},
   "outputs": [
    {
     "data": {
      "text/html": [
       "<div>\n",
       "<style scoped>\n",
       "    .dataframe tbody tr th:only-of-type {\n",
       "        vertical-align: middle;\n",
       "    }\n",
       "\n",
       "    .dataframe tbody tr th {\n",
       "        vertical-align: top;\n",
       "    }\n",
       "\n",
       "    .dataframe thead th {\n",
       "        text-align: right;\n",
       "    }\n",
       "</style>\n",
       "<table border=\"1\" class=\"dataframe\">\n",
       "  <thead>\n",
       "    <tr style=\"text-align: right;\">\n",
       "      <th></th>\n",
       "      <th>Text</th>\n",
       "      <th>label</th>\n",
       "    </tr>\n",
       "  </thead>\n",
       "  <tbody>\n",
       "    <tr>\n",
       "      <th>27</th>\n",
       "      <td>\\nPRAGNYA PATTNAIK\\n \\n \\n \\n Expertise: \\n \\...</td>\n",
       "      <td>React Developer</td>\n",
       "    </tr>\n",
       "    <tr>\n",
       "      <th>43</th>\n",
       "      <td>Ranga Gaganam  \\n \\n \\nHaving 1+ years of succ...</td>\n",
       "      <td>React Developer</td>\n",
       "    </tr>\n",
       "    <tr>\n",
       "      <th>19</th>\n",
       "      <td>\\n\\n\\n\\n\\n\\n\\n\\n\\n\\n\\n\\n\\n\\n\\n\\n\\n\\n\\n\\nC O N ...</td>\n",
       "      <td>Peoplesoft</td>\n",
       "    </tr>\n",
       "    <tr>\n",
       "      <th>30</th>\n",
       "      <td>\\n\\nThirupathamma Balla\\n\\nSUMMARY:\\n\\n2.8 yea...</td>\n",
       "      <td>React Developer</td>\n",
       "    </tr>\n",
       "    <tr>\n",
       "      <th>39</th>\n",
       "      <td>MD KHIZARUDDIN RAUF \\n \\t EXPERIENCE \\n     \\n...</td>\n",
       "      <td>React Developer</td>\n",
       "    </tr>\n",
       "    <tr>\n",
       "      <th>...</th>\n",
       "      <td>...</td>\n",
       "      <td>...</td>\n",
       "    </tr>\n",
       "    <tr>\n",
       "      <th>8</th>\n",
       "      <td>PeopleSoft Admin\\nVARKALA VIKAS\\n\\nCareer Obj...</td>\n",
       "      <td>Peoplesoft</td>\n",
       "    </tr>\n",
       "    <tr>\n",
       "      <th>66</th>\n",
       "      <td>\\n\\nJYOTI VERMA\\t\\t\\t\\t\\t\\n\\n\\n\\n3 years of Ex...</td>\n",
       "      <td>workday</td>\n",
       "    </tr>\n",
       "    <tr>\n",
       "      <th>44</th>\n",
       "      <td>SHAIK ABDUL SHARUK   \\n2 years’ Experience in ...</td>\n",
       "      <td>React Developer</td>\n",
       "    </tr>\n",
       "    <tr>\n",
       "      <th>76</th>\n",
       "      <td>Seeking suitable positions in Workday HCM  as ...</td>\n",
       "      <td>workday</td>\n",
       "    </tr>\n",
       "    <tr>\n",
       "      <th>24</th>\n",
       "      <td>KAMALAKAR REDDY. A \\nLinked In: https://www.li...</td>\n",
       "      <td>React Developer</td>\n",
       "    </tr>\n",
       "  </tbody>\n",
       "</table>\n",
       "<p>80 rows × 2 columns</p>\n",
       "</div>"
      ],
      "text/plain": [
       "                                                 Text            label\n",
       "27   \\nPRAGNYA PATTNAIK\\n \\n \\n \\n Expertise: \\n \\...  React Developer\n",
       "43  Ranga Gaganam  \\n \\n \\nHaving 1+ years of succ...  React Developer\n",
       "19  \\n\\n\\n\\n\\n\\n\\n\\n\\n\\n\\n\\n\\n\\n\\n\\n\\n\\n\\n\\nC O N ...       Peoplesoft\n",
       "30  \\n\\nThirupathamma Balla\\n\\nSUMMARY:\\n\\n2.8 yea...  React Developer\n",
       "39  MD KHIZARUDDIN RAUF \\n \\t EXPERIENCE \\n     \\n...  React Developer\n",
       "..                                                ...              ...\n",
       "8    PeopleSoft Admin\\nVARKALA VIKAS\\n\\nCareer Obj...       Peoplesoft\n",
       "66  \\n\\nJYOTI VERMA\\t\\t\\t\\t\\t\\n\\n\\n\\n3 years of Ex...          workday\n",
       "44  SHAIK ABDUL SHARUK   \\n2 years’ Experience in ...  React Developer\n",
       "76  Seeking suitable positions in Workday HCM  as ...          workday\n",
       "24  KAMALAKAR REDDY. A \\nLinked In: https://www.li...  React Developer\n",
       "\n",
       "[80 rows x 2 columns]"
      ]
     },
     "execution_count": 60,
     "metadata": {},
     "output_type": "execute_result"
    }
   ],
   "source": [
    "DL_df"
   ]
  },
  {
   "cell_type": "code",
   "execution_count": 61,
   "metadata": {},
   "outputs": [
    {
     "data": {
      "text/html": [
       "<div>\n",
       "<style scoped>\n",
       "    .dataframe tbody tr th:only-of-type {\n",
       "        vertical-align: middle;\n",
       "    }\n",
       "\n",
       "    .dataframe tbody tr th {\n",
       "        vertical-align: top;\n",
       "    }\n",
       "\n",
       "    .dataframe thead th {\n",
       "        text-align: right;\n",
       "    }\n",
       "</style>\n",
       "<table border=\"1\" class=\"dataframe\">\n",
       "  <thead>\n",
       "    <tr style=\"text-align: right;\">\n",
       "      <th></th>\n",
       "      <th>Peoplesoft</th>\n",
       "      <th>React Developer</th>\n",
       "      <th>SQL Developer</th>\n",
       "      <th>workday</th>\n",
       "    </tr>\n",
       "  </thead>\n",
       "  <tbody>\n",
       "    <tr>\n",
       "      <th>27</th>\n",
       "      <td>0</td>\n",
       "      <td>1</td>\n",
       "      <td>0</td>\n",
       "      <td>0</td>\n",
       "    </tr>\n",
       "    <tr>\n",
       "      <th>43</th>\n",
       "      <td>0</td>\n",
       "      <td>1</td>\n",
       "      <td>0</td>\n",
       "      <td>0</td>\n",
       "    </tr>\n",
       "    <tr>\n",
       "      <th>19</th>\n",
       "      <td>1</td>\n",
       "      <td>0</td>\n",
       "      <td>0</td>\n",
       "      <td>0</td>\n",
       "    </tr>\n",
       "    <tr>\n",
       "      <th>30</th>\n",
       "      <td>0</td>\n",
       "      <td>1</td>\n",
       "      <td>0</td>\n",
       "      <td>0</td>\n",
       "    </tr>\n",
       "    <tr>\n",
       "      <th>39</th>\n",
       "      <td>0</td>\n",
       "      <td>1</td>\n",
       "      <td>0</td>\n",
       "      <td>0</td>\n",
       "    </tr>\n",
       "    <tr>\n",
       "      <th>...</th>\n",
       "      <td>...</td>\n",
       "      <td>...</td>\n",
       "      <td>...</td>\n",
       "      <td>...</td>\n",
       "    </tr>\n",
       "    <tr>\n",
       "      <th>8</th>\n",
       "      <td>1</td>\n",
       "      <td>0</td>\n",
       "      <td>0</td>\n",
       "      <td>0</td>\n",
       "    </tr>\n",
       "    <tr>\n",
       "      <th>66</th>\n",
       "      <td>0</td>\n",
       "      <td>0</td>\n",
       "      <td>0</td>\n",
       "      <td>1</td>\n",
       "    </tr>\n",
       "    <tr>\n",
       "      <th>44</th>\n",
       "      <td>0</td>\n",
       "      <td>1</td>\n",
       "      <td>0</td>\n",
       "      <td>0</td>\n",
       "    </tr>\n",
       "    <tr>\n",
       "      <th>76</th>\n",
       "      <td>0</td>\n",
       "      <td>0</td>\n",
       "      <td>0</td>\n",
       "      <td>1</td>\n",
       "    </tr>\n",
       "    <tr>\n",
       "      <th>24</th>\n",
       "      <td>0</td>\n",
       "      <td>1</td>\n",
       "      <td>0</td>\n",
       "      <td>0</td>\n",
       "    </tr>\n",
       "  </tbody>\n",
       "</table>\n",
       "<p>80 rows × 4 columns</p>\n",
       "</div>"
      ],
      "text/plain": [
       "    Peoplesoft  React Developer  SQL Developer  workday\n",
       "27           0                1              0        0\n",
       "43           0                1              0        0\n",
       "19           1                0              0        0\n",
       "30           0                1              0        0\n",
       "39           0                1              0        0\n",
       "..         ...              ...            ...      ...\n",
       "8            1                0              0        0\n",
       "66           0                0              0        1\n",
       "44           0                1              0        0\n",
       "76           0                0              0        1\n",
       "24           0                1              0        0\n",
       "\n",
       "[80 rows x 4 columns]"
      ]
     },
     "execution_count": 61,
     "metadata": {},
     "output_type": "execute_result"
    }
   ],
   "source": [
    "y = pd.get_dummies(DL_df['label'],dtype=int)\n",
    "y"
   ]
  },
  {
   "cell_type": "code",
   "execution_count": 62,
   "metadata": {},
   "outputs": [],
   "source": [
    "DL_df.drop(columns=['label'],inplace=True)"
   ]
  },
  {
   "cell_type": "code",
   "execution_count": 63,
   "metadata": {},
   "outputs": [
    {
     "data": {
      "text/html": [
       "<div>\n",
       "<style scoped>\n",
       "    .dataframe tbody tr th:only-of-type {\n",
       "        vertical-align: middle;\n",
       "    }\n",
       "\n",
       "    .dataframe tbody tr th {\n",
       "        vertical-align: top;\n",
       "    }\n",
       "\n",
       "    .dataframe thead th {\n",
       "        text-align: right;\n",
       "    }\n",
       "</style>\n",
       "<table border=\"1\" class=\"dataframe\">\n",
       "  <thead>\n",
       "    <tr style=\"text-align: right;\">\n",
       "      <th></th>\n",
       "      <th>Text</th>\n",
       "    </tr>\n",
       "  </thead>\n",
       "  <tbody>\n",
       "    <tr>\n",
       "      <th>27</th>\n",
       "      <td>\\nPRAGNYA PATTNAIK\\n \\n \\n \\n Expertise: \\n \\...</td>\n",
       "    </tr>\n",
       "    <tr>\n",
       "      <th>43</th>\n",
       "      <td>Ranga Gaganam  \\n \\n \\nHaving 1+ years of succ...</td>\n",
       "    </tr>\n",
       "    <tr>\n",
       "      <th>19</th>\n",
       "      <td>\\n\\n\\n\\n\\n\\n\\n\\n\\n\\n\\n\\n\\n\\n\\n\\n\\n\\n\\n\\nC O N ...</td>\n",
       "    </tr>\n",
       "    <tr>\n",
       "      <th>30</th>\n",
       "      <td>\\n\\nThirupathamma Balla\\n\\nSUMMARY:\\n\\n2.8 yea...</td>\n",
       "    </tr>\n",
       "    <tr>\n",
       "      <th>39</th>\n",
       "      <td>MD KHIZARUDDIN RAUF \\n \\t EXPERIENCE \\n     \\n...</td>\n",
       "    </tr>\n",
       "    <tr>\n",
       "      <th>...</th>\n",
       "      <td>...</td>\n",
       "    </tr>\n",
       "    <tr>\n",
       "      <th>8</th>\n",
       "      <td>PeopleSoft Admin\\nVARKALA VIKAS\\n\\nCareer Obj...</td>\n",
       "    </tr>\n",
       "    <tr>\n",
       "      <th>66</th>\n",
       "      <td>\\n\\nJYOTI VERMA\\t\\t\\t\\t\\t\\n\\n\\n\\n3 years of Ex...</td>\n",
       "    </tr>\n",
       "    <tr>\n",
       "      <th>44</th>\n",
       "      <td>SHAIK ABDUL SHARUK   \\n2 years’ Experience in ...</td>\n",
       "    </tr>\n",
       "    <tr>\n",
       "      <th>76</th>\n",
       "      <td>Seeking suitable positions in Workday HCM  as ...</td>\n",
       "    </tr>\n",
       "    <tr>\n",
       "      <th>24</th>\n",
       "      <td>KAMALAKAR REDDY. A \\nLinked In: https://www.li...</td>\n",
       "    </tr>\n",
       "  </tbody>\n",
       "</table>\n",
       "<p>80 rows × 1 columns</p>\n",
       "</div>"
      ],
      "text/plain": [
       "                                                 Text\n",
       "27   \\nPRAGNYA PATTNAIK\\n \\n \\n \\n Expertise: \\n \\...\n",
       "43  Ranga Gaganam  \\n \\n \\nHaving 1+ years of succ...\n",
       "19  \\n\\n\\n\\n\\n\\n\\n\\n\\n\\n\\n\\n\\n\\n\\n\\n\\n\\n\\n\\nC O N ...\n",
       "30  \\n\\nThirupathamma Balla\\n\\nSUMMARY:\\n\\n2.8 yea...\n",
       "39  MD KHIZARUDDIN RAUF \\n \\t EXPERIENCE \\n     \\n...\n",
       "..                                                ...\n",
       "8    PeopleSoft Admin\\nVARKALA VIKAS\\n\\nCareer Obj...\n",
       "66  \\n\\nJYOTI VERMA\\t\\t\\t\\t\\t\\n\\n\\n\\n3 years of Ex...\n",
       "44  SHAIK ABDUL SHARUK   \\n2 years’ Experience in ...\n",
       "76  Seeking suitable positions in Workday HCM  as ...\n",
       "24  KAMALAKAR REDDY. A \\nLinked In: https://www.li...\n",
       "\n",
       "[80 rows x 1 columns]"
      ]
     },
     "execution_count": 63,
     "metadata": {},
     "output_type": "execute_result"
    }
   ],
   "source": [
    "DL_df"
   ]
  },
  {
   "cell_type": "code",
   "execution_count": 64,
   "metadata": {},
   "outputs": [],
   "source": [
    "DL_df['Text'] = DL_df['Text'].apply(preprocess_data)"
   ]
  },
  {
   "cell_type": "code",
   "execution_count": 65,
   "metadata": {},
   "outputs": [],
   "source": [
    "DL_df['Text'] = DL_df['Text'].apply(preprocess_data2)"
   ]
  },
  {
   "cell_type": "code",
   "execution_count": 66,
   "metadata": {},
   "outputs": [
    {
     "data": {
      "text/plain": [
       "(80,)"
      ]
     },
     "execution_count": 66,
     "metadata": {},
     "output_type": "execute_result"
    }
   ],
   "source": [
    "x = DL_df['Text']\n",
    "x.shape"
   ]
  },
  {
   "cell_type": "code",
   "execution_count": 67,
   "metadata": {},
   "outputs": [],
   "source": [
    "x_train,x_test,y_train,y_test = train_test_split(x,y,test_size=0.20,random_state=42)"
   ]
  },
  {
   "cell_type": "code",
   "execution_count": 68,
   "metadata": {},
   "outputs": [],
   "source": [
    "tokenizer = Tokenizer()"
   ]
  },
  {
   "cell_type": "code",
   "execution_count": 69,
   "metadata": {},
   "outputs": [],
   "source": [
    "tokenizer.fit_on_texts(x_train)\n",
    "tokenizer.fit_on_texts(x_test)"
   ]
  },
  {
   "cell_type": "code",
   "execution_count": 70,
   "metadata": {},
   "outputs": [],
   "source": [
    "x_train_seq = tokenizer.texts_to_sequences(x_train)\n",
    "x_test_seq = tokenizer.texts_to_sequences(x_test)"
   ]
  },
  {
   "cell_type": "code",
   "execution_count": 71,
   "metadata": {},
   "outputs": [],
   "source": [
    "x_train_pad = pad_sequences(x_train_seq,maxlen=500,padding='post')\n",
    "x_test_pad = pad_sequences(x_test_seq,maxlen=500,padding='post')"
   ]
  },
  {
   "cell_type": "code",
   "execution_count": 72,
   "metadata": {},
   "outputs": [
    {
     "data": {
      "text/plain": [
       "((64, 500), (16, 500))"
      ]
     },
     "execution_count": 72,
     "metadata": {},
     "output_type": "execute_result"
    }
   ],
   "source": [
    "x_train_pad.shape,x_test_pad.shape"
   ]
  },
  {
   "cell_type": "code",
   "execution_count": 73,
   "metadata": {},
   "outputs": [
    {
     "data": {
      "text/plain": [
       "2885"
      ]
     },
     "execution_count": 73,
     "metadata": {},
     "output_type": "execute_result"
    }
   ],
   "source": [
    "vocab_size = len(tokenizer.word_index)+1\n",
    "vocab_size"
   ]
  },
  {
   "cell_type": "markdown",
   "metadata": {},
   "source": [
    "## Simple RNN Model"
   ]
  },
  {
   "cell_type": "code",
   "execution_count": 74,
   "metadata": {},
   "outputs": [],
   "source": [
    "from tensorflow.keras.models import Sequential\n",
    "from tensorflow.keras.layers import SimpleRNN,Embedding,Dense\n",
    "from tensorflow.keras.optimizers import Adam\n",
    "from tensorflow.keras.callbacks import EarlyStopping"
   ]
  },
  {
   "cell_type": "code",
   "execution_count": 75,
   "metadata": {},
   "outputs": [
    {
     "name": "stdout",
     "output_type": "stream",
     "text": [
      "Model: \"sequential\"\n",
      "_________________________________________________________________\n",
      " Layer (type)                Output Shape              Param #   \n",
      "=================================================================\n",
      " embedding (Embedding)       (None, 500, 128)          369280    \n",
      "                                                                 \n",
      " simple_rnn (SimpleRNN)      (None, 500, 64)           12352     \n",
      "                                                                 \n",
      " simple_rnn_1 (SimpleRNN)    (None, 32)                3104      \n",
      "                                                                 \n",
      " dense (Dense)               (None, 4)                 132       \n",
      "                                                                 \n",
      "=================================================================\n",
      "Total params: 384,868\n",
      "Trainable params: 384,868\n",
      "Non-trainable params: 0\n",
      "_________________________________________________________________\n"
     ]
    }
   ],
   "source": [
    "model_rnn = Sequential()\n",
    "model_rnn.add(Embedding(input_dim=vocab_size,output_dim=128,input_length=500))\n",
    "model_rnn.add(SimpleRNN(64,activation='relu',return_sequences=True))\n",
    "model_rnn.add(SimpleRNN(32))\n",
    "model_rnn.add(Dense(4,activation='softmax'))\n",
    "\n",
    "model_rnn.compile(optimizer = Adam(),loss = 'categorical_crossentropy', metrics = ['accuracy'])\n",
    "\n",
    "model_rnn.summary()"
   ]
  },
  {
   "cell_type": "code",
   "execution_count": 76,
   "metadata": {},
   "outputs": [
    {
     "data": {
      "text/plain": [
       "<keras.callbacks.EarlyStopping at 0x2281eea48e0>"
      ]
     },
     "execution_count": 76,
     "metadata": {},
     "output_type": "execute_result"
    }
   ],
   "source": [
    "earlystopping_srnn = EarlyStopping(monitor='val_loss',patience=4,restore_best_weights=True)\n",
    "earlystopping_srnn"
   ]
  },
  {
   "cell_type": "code",
   "execution_count": 77,
   "metadata": {},
   "outputs": [
    {
     "name": "stdout",
     "output_type": "stream",
     "text": [
      "Epoch 1/11\n",
      "2/2 [==============================] - 3s 671ms/step - loss: 1.3579 - accuracy: 0.3906 - val_loss: 1.2354 - val_accuracy: 0.5625\n",
      "Epoch 2/11\n",
      "2/2 [==============================] - 0s 255ms/step - loss: 1.1125 - accuracy: 0.5938 - val_loss: 1.2156 - val_accuracy: 0.2500\n",
      "Epoch 3/11\n",
      "2/2 [==============================] - 0s 272ms/step - loss: 0.9742 - accuracy: 0.7500 - val_loss: 1.1784 - val_accuracy: 0.5000\n",
      "Epoch 4/11\n",
      "2/2 [==============================] - 0s 216ms/step - loss: 0.9040 - accuracy: 0.8281 - val_loss: 1.0979 - val_accuracy: 0.5625\n",
      "Epoch 5/11\n",
      "2/2 [==============================] - 0s 260ms/step - loss: 0.8489 - accuracy: 0.8438 - val_loss: 1.0991 - val_accuracy: 0.5625\n",
      "Epoch 6/11\n",
      "2/2 [==============================] - 0s 237ms/step - loss: 0.7949 - accuracy: 0.8594 - val_loss: 1.0262 - val_accuracy: 0.6875\n",
      "Epoch 7/11\n",
      "2/2 [==============================] - 0s 233ms/step - loss: 0.7483 - accuracy: 0.8906 - val_loss: 0.9550 - val_accuracy: 0.7500\n",
      "Epoch 8/11\n",
      "2/2 [==============================] - 0s 243ms/step - loss: 0.6785 - accuracy: 0.9062 - val_loss: 0.9226 - val_accuracy: 0.7500\n",
      "Epoch 9/11\n",
      "2/2 [==============================] - 0s 247ms/step - loss: 0.6551 - accuracy: 0.9062 - val_loss: 0.9112 - val_accuracy: 0.6875\n",
      "Epoch 10/11\n",
      "2/2 [==============================] - 0s 225ms/step - loss: 0.5866 - accuracy: 0.9844 - val_loss: 0.8417 - val_accuracy: 0.8125\n",
      "Epoch 11/11\n",
      "2/2 [==============================] - 0s 202ms/step - loss: 0.5497 - accuracy: 1.0000 - val_loss: 0.8338 - val_accuracy: 0.8125\n"
     ]
    }
   ],
   "source": [
    "history = model_rnn.fit(\n",
    "    x_train_pad,y_train,\n",
    "    epochs=11,\n",
    "    batch_size = 32,\n",
    "    validation_data = (x_test_pad,y_test),\n",
    "    callbacks = earlystopping_srnn\n",
    ")"
   ]
  },
  {
   "cell_type": "markdown",
   "metadata": {},
   "source": [
    "## LSTM RNN Model"
   ]
  },
  {
   "cell_type": "code",
   "execution_count": 78,
   "metadata": {},
   "outputs": [],
   "source": [
    "from tensorflow.keras.layers import LSTM"
   ]
  },
  {
   "cell_type": "code",
   "execution_count": 79,
   "metadata": {},
   "outputs": [
    {
     "name": "stdout",
     "output_type": "stream",
     "text": [
      "Model: \"sequential_1\"\n",
      "_________________________________________________________________\n",
      " Layer (type)                Output Shape              Param #   \n",
      "=================================================================\n",
      " embedding_1 (Embedding)     (None, 500, 128)          369280    \n",
      "                                                                 \n",
      " lstm (LSTM)                 (None, 500, 64)           49408     \n",
      "                                                                 \n",
      " lstm_1 (LSTM)               (None, 32)                12416     \n",
      "                                                                 \n",
      " dense_1 (Dense)             (None, 4)                 132       \n",
      "                                                                 \n",
      "=================================================================\n",
      "Total params: 431,236\n",
      "Trainable params: 431,236\n",
      "Non-trainable params: 0\n",
      "_________________________________________________________________\n"
     ]
    }
   ],
   "source": [
    "model_lstm = Sequential()\n",
    "model_lstm.add(Embedding(input_dim=vocab_size,output_dim=128,input_length=500))\n",
    "model_lstm.add(LSTM(64,activation='relu',return_sequences=True))\n",
    "model_lstm.add(LSTM(32))\n",
    "model_lstm.add(Dense(4,activation='softmax'))\n",
    "\n",
    "model_lstm.compile(optimizer = Adam(learning_rate=0.001), loss = 'categorical_crossentropy', metrics = ['accuracy'])\n",
    "\n",
    "model_lstm.summary()"
   ]
  },
  {
   "cell_type": "code",
   "execution_count": 80,
   "metadata": {},
   "outputs": [
    {
     "data": {
      "text/plain": [
       "<keras.callbacks.EarlyStopping at 0x2281da47130>"
      ]
     },
     "execution_count": 80,
     "metadata": {},
     "output_type": "execute_result"
    }
   ],
   "source": [
    "earlystopping_lstm = EarlyStopping(monitor='val_loss',patience=4,restore_best_weights=True)\n",
    "earlystopping_lstm"
   ]
  },
  {
   "cell_type": "code",
   "execution_count": 81,
   "metadata": {},
   "outputs": [
    {
     "name": "stdout",
     "output_type": "stream",
     "text": [
      "Epoch 1/10\n",
      "2/2 [==============================] - 5s 1s/step - loss: 1.3822 - accuracy: 0.3438 - val_loss: 1.3809 - val_accuracy: 0.3750\n",
      "Epoch 2/10\n",
      "2/2 [==============================] - 1s 526ms/step - loss: 1.3698 - accuracy: 0.4688 - val_loss: 1.3726 - val_accuracy: 0.3750\n",
      "Epoch 3/10\n",
      "2/2 [==============================] - 1s 500ms/step - loss: 1.3565 - accuracy: 0.5156 - val_loss: 1.3646 - val_accuracy: 0.4375\n",
      "Epoch 4/10\n",
      "2/2 [==============================] - 1s 498ms/step - loss: 1.3421 - accuracy: 0.5625 - val_loss: 1.3575 - val_accuracy: 0.4375\n",
      "Epoch 5/10\n",
      "2/2 [==============================] - 1s 488ms/step - loss: 1.3250 - accuracy: 0.6094 - val_loss: 1.3518 - val_accuracy: 0.4375\n",
      "Epoch 6/10\n",
      "2/2 [==============================] - 1s 480ms/step - loss: 1.3088 - accuracy: 0.6094 - val_loss: 1.3549 - val_accuracy: 0.4375\n",
      "Epoch 7/10\n",
      "2/2 [==============================] - 1s 361ms/step - loss: 1.2961 - accuracy: 0.6094 - val_loss: 1.3636 - val_accuracy: 0.4375\n",
      "Epoch 8/10\n",
      "2/2 [==============================] - 1s 360ms/step - loss: 1.2871 - accuracy: 0.5938 - val_loss: 1.3778 - val_accuracy: 0.4375\n",
      "Epoch 9/10\n",
      "2/2 [==============================] - 1s 383ms/step - loss: 1.2681 - accuracy: 0.5938 - val_loss: 1.3801 - val_accuracy: 0.4375\n"
     ]
    }
   ],
   "source": [
    "history = model_lstm.fit(\n",
    "    x_train_pad,y_train,\n",
    "    epochs=10,\n",
    "    batch_size=32,\n",
    "    validation_data=(x_test_pad,y_test),\n",
    "    callbacks=earlystopping_lstm\n",
    ")"
   ]
  },
  {
   "cell_type": "markdown",
   "metadata": {},
   "source": [
    "## GRU RNN Model"
   ]
  },
  {
   "cell_type": "code",
   "execution_count": 82,
   "metadata": {},
   "outputs": [],
   "source": [
    "from tensorflow.keras.layers import GRU"
   ]
  },
  {
   "cell_type": "code",
   "execution_count": 83,
   "metadata": {},
   "outputs": [
    {
     "name": "stdout",
     "output_type": "stream",
     "text": [
      "Model: \"sequential_2\"\n",
      "_________________________________________________________________\n",
      " Layer (type)                Output Shape              Param #   \n",
      "=================================================================\n",
      " embedding_2 (Embedding)     (None, 500, 128)          369280    \n",
      "                                                                 \n",
      " gru (GRU)                   (None, 500, 100)          69000     \n",
      "                                                                 \n",
      " gru_1 (GRU)                 (None, 34)                13872     \n",
      "                                                                 \n",
      " dense_2 (Dense)             (None, 4)                 140       \n",
      "                                                                 \n",
      "=================================================================\n",
      "Total params: 452,292\n",
      "Trainable params: 452,292\n",
      "Non-trainable params: 0\n",
      "_________________________________________________________________\n"
     ]
    }
   ],
   "source": [
    "model_gru = Sequential()\n",
    "model_gru.add(Embedding(input_dim=vocab_size,output_dim=128,input_length=500))\n",
    "model_gru.add(GRU(100,activation='relu',return_sequences=True))\n",
    "model_gru.add(GRU(34))\n",
    "model_gru.add(Dense(4,activation='softmax'))\n",
    "\n",
    "model_gru.compile(optimizer = Adam(learning_rate=0.001), loss = 'categorical_crossentropy', metrics = ['accuracy'])\n",
    "\n",
    "model_gru.summary()"
   ]
  },
  {
   "cell_type": "code",
   "execution_count": 84,
   "metadata": {},
   "outputs": [
    {
     "data": {
      "text/plain": [
       "<keras.callbacks.EarlyStopping at 0x228229983d0>"
      ]
     },
     "execution_count": 84,
     "metadata": {},
     "output_type": "execute_result"
    }
   ],
   "source": [
    "earlystopping_gru = EarlyStopping(monitor='val_loss',patience=4,restore_best_weights=True)\n",
    "earlystopping_gru"
   ]
  },
  {
   "cell_type": "code",
   "execution_count": 85,
   "metadata": {},
   "outputs": [
    {
     "name": "stdout",
     "output_type": "stream",
     "text": [
      "Epoch 1/10\n",
      "2/2 [==============================] - 6s 1s/step - loss: 1.3824 - accuracy: 0.3438 - val_loss: 1.3786 - val_accuracy: 0.3125\n",
      "Epoch 2/10\n",
      "2/2 [==============================] - 1s 382ms/step - loss: 1.3607 - accuracy: 0.4375 - val_loss: 1.3754 - val_accuracy: 0.3125\n",
      "Epoch 3/10\n",
      "2/2 [==============================] - 1s 399ms/step - loss: 1.3437 - accuracy: 0.4688 - val_loss: 1.3724 - val_accuracy: 0.3125\n",
      "Epoch 4/10\n",
      "2/2 [==============================] - 1s 405ms/step - loss: 1.3274 - accuracy: 0.4688 - val_loss: 1.3714 - val_accuracy: 0.3125\n",
      "Epoch 5/10\n",
      "2/2 [==============================] - 1s 426ms/step - loss: 1.3064 - accuracy: 0.4688 - val_loss: 1.3716 - val_accuracy: 0.3125\n",
      "Epoch 6/10\n",
      "2/2 [==============================] - 1s 376ms/step - loss: 1.2918 - accuracy: 0.5000 - val_loss: 1.3765 - val_accuracy: 0.3750\n",
      "Epoch 7/10\n",
      "2/2 [==============================] - 1s 390ms/step - loss: 1.2706 - accuracy: 0.5625 - val_loss: 1.3835 - val_accuracy: 0.3750\n",
      "Epoch 8/10\n",
      "2/2 [==============================] - 1s 434ms/step - loss: 1.2530 - accuracy: 0.5625 - val_loss: 1.3859 - val_accuracy: 0.3750\n"
     ]
    }
   ],
   "source": [
    "history = model_gru.fit(\n",
    "    x_train_pad,y_train,\n",
    "    epochs=10,\n",
    "    batch_size=32,\n",
    "    validation_data=(x_test_pad,y_test),\n",
    "    callbacks=earlystopping_gru\n",
    ")"
   ]
  },
  {
   "cell_type": "code",
   "execution_count": null,
   "metadata": {},
   "outputs": [],
   "source": []
  }
 ],
 "metadata": {
  "kernelspec": {
   "display_name": "even",
   "language": "python",
   "name": "python3"
  },
  "language_info": {
   "codemirror_mode": {
    "name": "ipython",
    "version": 3
   },
   "file_extension": ".py",
   "mimetype": "text/x-python",
   "name": "python",
   "nbconvert_exporter": "python",
   "pygments_lexer": "ipython3",
   "version": "3.8.0"
  }
 },
 "nbformat": 4,
 "nbformat_minor": 2
}
